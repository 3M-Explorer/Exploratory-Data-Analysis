{
  "nbformat": 4,
  "nbformat_minor": 0,
  "metadata": {
    "colab": {
      "provenance": []
    },
    "kernelspec": {
      "name": "python3",
      "display_name": "Python 3"
    },
    "language_info": {
      "name": "python"
    }
  },
  "cells": [
    {
      "cell_type": "markdown",
      "source": [
        "# Data Cleaning of Department and University Columns in the *Pakistan Intellectual Capital* Dataset Using FuzzyWuzzy"
      ],
      "metadata": {
        "id": "gyGvZQkbpVun"
      }
    },
    {
      "cell_type": "code",
      "source": [
        "import pandas as pd\n",
        "import numpy as np\n",
        "!pip install fuzzywuzzy\n",
        "\n",
        "\n",
        "import fuzzywuzzy\n",
        "from fuzzywuzzy import process\n",
        "\n",
        "\n",
        "professors = pd.read_csv('/content/drive/MyDrive/Atomcamp/pakistan_intellectual_capital.csv')\n",
        "professors.head()"
      ],
      "metadata": {
        "colab": {
          "base_uri": "https://localhost:8080/",
          "height": 362
        },
        "id": "213D8ymNFTw9",
        "outputId": "39165adb-53a2-419b-bdbc-9615fb11968a"
      },
      "execution_count": null,
      "outputs": [
        {
          "output_type": "stream",
          "name": "stdout",
          "text": [
            "Requirement already satisfied: fuzzywuzzy in /usr/local/lib/python3.10/dist-packages (0.18.0)\n"
          ]
        },
        {
          "output_type": "stream",
          "name": "stderr",
          "text": [
            "/usr/local/lib/python3.10/dist-packages/fuzzywuzzy/fuzz.py:11: UserWarning: Using slow pure-python SequenceMatcher. Install python-Levenshtein to remove this warning\n",
            "  warnings.warn('Using slow pure-python SequenceMatcher. Install python-Levenshtein to remove this warning')\n"
          ]
        },
        {
          "output_type": "execute_result",
          "data": {
            "text/plain": [
              "   Unnamed: 0  S#         Teacher Name  \\\n",
              "0           2   3      Dr. Abdul Basit   \n",
              "1           4   5      Dr. Waheed Noor   \n",
              "2           5   6     Dr. Junaid Baber   \n",
              "3           6   7  Dr. Maheen Bakhtyar   \n",
              "4          24  25          Samina Azim   \n",
              "\n",
              "            University Currently Teaching             Department  \\\n",
              "0               University of Balochistan  Computer Science & IT   \n",
              "1               University of Balochistan  Computer Science & IT   \n",
              "2               University of Balochistan  Computer Science & IT   \n",
              "3               University of Balochistan  Computer Science & IT   \n",
              "4  Sardar Bahadur Khan Women's University       Computer Science   \n",
              "\n",
              "  Province University Located          Designation Terminal Degree  \\\n",
              "0                 Balochistan  Assistant Professor             PhD   \n",
              "1                 Balochistan  Assistant Professor             PhD   \n",
              "2                 Balochistan  Assistant Professor             PhD   \n",
              "3                 Balochistan  Assistant Professor             PhD   \n",
              "4                 Balochistan             Lecturer              BS   \n",
              "\n",
              "                                      Graduated from   Country    Year  \\\n",
              "0                      Asian Institute of Technology  Thailand     NaN   \n",
              "1                      Asian Institute of Technology  Thailand     NaN   \n",
              "2                      Asian Institute of Technology  Thailand     NaN   \n",
              "3                      Asian Institute of Technology  Thailand     NaN   \n",
              "4  Balochistan University of Information Technolo...  Pakistan  2005.0   \n",
              "\n",
              "           Area of Specialization/Research Interests Other Information  \n",
              "0                        Software Engineering & DBMS               NaN  \n",
              "1                                               DBMS               NaN  \n",
              "2          Information processing, Multimedia mining               NaN  \n",
              "3  NLP, Information Retrieval, Question Answering...               NaN  \n",
              "4                      VLSI Electronics DLD Database               NaN  "
            ],
            "text/html": [
              "\n",
              "  <div id=\"df-8f90519a-c1a6-4176-986e-5d52cb0e88aa\" class=\"colab-df-container\">\n",
              "    <div>\n",
              "<style scoped>\n",
              "    .dataframe tbody tr th:only-of-type {\n",
              "        vertical-align: middle;\n",
              "    }\n",
              "\n",
              "    .dataframe tbody tr th {\n",
              "        vertical-align: top;\n",
              "    }\n",
              "\n",
              "    .dataframe thead th {\n",
              "        text-align: right;\n",
              "    }\n",
              "</style>\n",
              "<table border=\"1\" class=\"dataframe\">\n",
              "  <thead>\n",
              "    <tr style=\"text-align: right;\">\n",
              "      <th></th>\n",
              "      <th>Unnamed: 0</th>\n",
              "      <th>S#</th>\n",
              "      <th>Teacher Name</th>\n",
              "      <th>University Currently Teaching</th>\n",
              "      <th>Department</th>\n",
              "      <th>Province University Located</th>\n",
              "      <th>Designation</th>\n",
              "      <th>Terminal Degree</th>\n",
              "      <th>Graduated from</th>\n",
              "      <th>Country</th>\n",
              "      <th>Year</th>\n",
              "      <th>Area of Specialization/Research Interests</th>\n",
              "      <th>Other Information</th>\n",
              "    </tr>\n",
              "  </thead>\n",
              "  <tbody>\n",
              "    <tr>\n",
              "      <th>0</th>\n",
              "      <td>2</td>\n",
              "      <td>3</td>\n",
              "      <td>Dr. Abdul Basit</td>\n",
              "      <td>University of Balochistan</td>\n",
              "      <td>Computer Science &amp; IT</td>\n",
              "      <td>Balochistan</td>\n",
              "      <td>Assistant Professor</td>\n",
              "      <td>PhD</td>\n",
              "      <td>Asian Institute of Technology</td>\n",
              "      <td>Thailand</td>\n",
              "      <td>NaN</td>\n",
              "      <td>Software Engineering &amp; DBMS</td>\n",
              "      <td>NaN</td>\n",
              "    </tr>\n",
              "    <tr>\n",
              "      <th>1</th>\n",
              "      <td>4</td>\n",
              "      <td>5</td>\n",
              "      <td>Dr. Waheed Noor</td>\n",
              "      <td>University of Balochistan</td>\n",
              "      <td>Computer Science &amp; IT</td>\n",
              "      <td>Balochistan</td>\n",
              "      <td>Assistant Professor</td>\n",
              "      <td>PhD</td>\n",
              "      <td>Asian Institute of Technology</td>\n",
              "      <td>Thailand</td>\n",
              "      <td>NaN</td>\n",
              "      <td>DBMS</td>\n",
              "      <td>NaN</td>\n",
              "    </tr>\n",
              "    <tr>\n",
              "      <th>2</th>\n",
              "      <td>5</td>\n",
              "      <td>6</td>\n",
              "      <td>Dr. Junaid Baber</td>\n",
              "      <td>University of Balochistan</td>\n",
              "      <td>Computer Science &amp; IT</td>\n",
              "      <td>Balochistan</td>\n",
              "      <td>Assistant Professor</td>\n",
              "      <td>PhD</td>\n",
              "      <td>Asian Institute of Technology</td>\n",
              "      <td>Thailand</td>\n",
              "      <td>NaN</td>\n",
              "      <td>Information processing, Multimedia mining</td>\n",
              "      <td>NaN</td>\n",
              "    </tr>\n",
              "    <tr>\n",
              "      <th>3</th>\n",
              "      <td>6</td>\n",
              "      <td>7</td>\n",
              "      <td>Dr. Maheen Bakhtyar</td>\n",
              "      <td>University of Balochistan</td>\n",
              "      <td>Computer Science &amp; IT</td>\n",
              "      <td>Balochistan</td>\n",
              "      <td>Assistant Professor</td>\n",
              "      <td>PhD</td>\n",
              "      <td>Asian Institute of Technology</td>\n",
              "      <td>Thailand</td>\n",
              "      <td>NaN</td>\n",
              "      <td>NLP, Information Retrieval, Question Answering...</td>\n",
              "      <td>NaN</td>\n",
              "    </tr>\n",
              "    <tr>\n",
              "      <th>4</th>\n",
              "      <td>24</td>\n",
              "      <td>25</td>\n",
              "      <td>Samina Azim</td>\n",
              "      <td>Sardar Bahadur Khan Women's University</td>\n",
              "      <td>Computer Science</td>\n",
              "      <td>Balochistan</td>\n",
              "      <td>Lecturer</td>\n",
              "      <td>BS</td>\n",
              "      <td>Balochistan University of Information Technolo...</td>\n",
              "      <td>Pakistan</td>\n",
              "      <td>2005.0</td>\n",
              "      <td>VLSI Electronics DLD Database</td>\n",
              "      <td>NaN</td>\n",
              "    </tr>\n",
              "  </tbody>\n",
              "</table>\n",
              "</div>\n",
              "    <div class=\"colab-df-buttons\">\n",
              "\n",
              "  <div class=\"colab-df-container\">\n",
              "    <button class=\"colab-df-convert\" onclick=\"convertToInteractive('df-8f90519a-c1a6-4176-986e-5d52cb0e88aa')\"\n",
              "            title=\"Convert this dataframe to an interactive table.\"\n",
              "            style=\"display:none;\">\n",
              "\n",
              "  <svg xmlns=\"http://www.w3.org/2000/svg\" height=\"24px\" viewBox=\"0 -960 960 960\">\n",
              "    <path d=\"M120-120v-720h720v720H120Zm60-500h600v-160H180v160Zm220 220h160v-160H400v160Zm0 220h160v-160H400v160ZM180-400h160v-160H180v160Zm440 0h160v-160H620v160ZM180-180h160v-160H180v160Zm440 0h160v-160H620v160Z\"/>\n",
              "  </svg>\n",
              "    </button>\n",
              "\n",
              "  <style>\n",
              "    .colab-df-container {\n",
              "      display:flex;\n",
              "      gap: 12px;\n",
              "    }\n",
              "\n",
              "    .colab-df-convert {\n",
              "      background-color: #E8F0FE;\n",
              "      border: none;\n",
              "      border-radius: 50%;\n",
              "      cursor: pointer;\n",
              "      display: none;\n",
              "      fill: #1967D2;\n",
              "      height: 32px;\n",
              "      padding: 0 0 0 0;\n",
              "      width: 32px;\n",
              "    }\n",
              "\n",
              "    .colab-df-convert:hover {\n",
              "      background-color: #E2EBFA;\n",
              "      box-shadow: 0px 1px 2px rgba(60, 64, 67, 0.3), 0px 1px 3px 1px rgba(60, 64, 67, 0.15);\n",
              "      fill: #174EA6;\n",
              "    }\n",
              "\n",
              "    .colab-df-buttons div {\n",
              "      margin-bottom: 4px;\n",
              "    }\n",
              "\n",
              "    [theme=dark] .colab-df-convert {\n",
              "      background-color: #3B4455;\n",
              "      fill: #D2E3FC;\n",
              "    }\n",
              "\n",
              "    [theme=dark] .colab-df-convert:hover {\n",
              "      background-color: #434B5C;\n",
              "      box-shadow: 0px 1px 3px 1px rgba(0, 0, 0, 0.15);\n",
              "      filter: drop-shadow(0px 1px 2px rgba(0, 0, 0, 0.3));\n",
              "      fill: #FFFFFF;\n",
              "    }\n",
              "  </style>\n",
              "\n",
              "    <script>\n",
              "      const buttonEl =\n",
              "        document.querySelector('#df-8f90519a-c1a6-4176-986e-5d52cb0e88aa button.colab-df-convert');\n",
              "      buttonEl.style.display =\n",
              "        google.colab.kernel.accessAllowed ? 'block' : 'none';\n",
              "\n",
              "      async function convertToInteractive(key) {\n",
              "        const element = document.querySelector('#df-8f90519a-c1a6-4176-986e-5d52cb0e88aa');\n",
              "        const dataTable =\n",
              "          await google.colab.kernel.invokeFunction('convertToInteractive',\n",
              "                                                    [key], {});\n",
              "        if (!dataTable) return;\n",
              "\n",
              "        const docLinkHtml = 'Like what you see? Visit the ' +\n",
              "          '<a target=\"_blank\" href=https://colab.research.google.com/notebooks/data_table.ipynb>data table notebook</a>'\n",
              "          + ' to learn more about interactive tables.';\n",
              "        element.innerHTML = '';\n",
              "        dataTable['output_type'] = 'display_data';\n",
              "        await google.colab.output.renderOutput(dataTable, element);\n",
              "        const docLink = document.createElement('div');\n",
              "        docLink.innerHTML = docLinkHtml;\n",
              "        element.appendChild(docLink);\n",
              "      }\n",
              "    </script>\n",
              "  </div>\n",
              "\n",
              "\n",
              "<div id=\"df-ed2bc6ba-f5e9-490f-8826-eb956059391e\">\n",
              "  <button class=\"colab-df-quickchart\" onclick=\"quickchart('df-ed2bc6ba-f5e9-490f-8826-eb956059391e')\"\n",
              "            title=\"Suggest charts\"\n",
              "            style=\"display:none;\">\n",
              "\n",
              "<svg xmlns=\"http://www.w3.org/2000/svg\" height=\"24px\"viewBox=\"0 0 24 24\"\n",
              "     width=\"24px\">\n",
              "    <g>\n",
              "        <path d=\"M19 3H5c-1.1 0-2 .9-2 2v14c0 1.1.9 2 2 2h14c1.1 0 2-.9 2-2V5c0-1.1-.9-2-2-2zM9 17H7v-7h2v7zm4 0h-2V7h2v10zm4 0h-2v-4h2v4z\"/>\n",
              "    </g>\n",
              "</svg>\n",
              "  </button>\n",
              "\n",
              "<style>\n",
              "  .colab-df-quickchart {\n",
              "      --bg-color: #E8F0FE;\n",
              "      --fill-color: #1967D2;\n",
              "      --hover-bg-color: #E2EBFA;\n",
              "      --hover-fill-color: #174EA6;\n",
              "      --disabled-fill-color: #AAA;\n",
              "      --disabled-bg-color: #DDD;\n",
              "  }\n",
              "\n",
              "  [theme=dark] .colab-df-quickchart {\n",
              "      --bg-color: #3B4455;\n",
              "      --fill-color: #D2E3FC;\n",
              "      --hover-bg-color: #434B5C;\n",
              "      --hover-fill-color: #FFFFFF;\n",
              "      --disabled-bg-color: #3B4455;\n",
              "      --disabled-fill-color: #666;\n",
              "  }\n",
              "\n",
              "  .colab-df-quickchart {\n",
              "    background-color: var(--bg-color);\n",
              "    border: none;\n",
              "    border-radius: 50%;\n",
              "    cursor: pointer;\n",
              "    display: none;\n",
              "    fill: var(--fill-color);\n",
              "    height: 32px;\n",
              "    padding: 0;\n",
              "    width: 32px;\n",
              "  }\n",
              "\n",
              "  .colab-df-quickchart:hover {\n",
              "    background-color: var(--hover-bg-color);\n",
              "    box-shadow: 0 1px 2px rgba(60, 64, 67, 0.3), 0 1px 3px 1px rgba(60, 64, 67, 0.15);\n",
              "    fill: var(--button-hover-fill-color);\n",
              "  }\n",
              "\n",
              "  .colab-df-quickchart-complete:disabled,\n",
              "  .colab-df-quickchart-complete:disabled:hover {\n",
              "    background-color: var(--disabled-bg-color);\n",
              "    fill: var(--disabled-fill-color);\n",
              "    box-shadow: none;\n",
              "  }\n",
              "\n",
              "  .colab-df-spinner {\n",
              "    border: 2px solid var(--fill-color);\n",
              "    border-color: transparent;\n",
              "    border-bottom-color: var(--fill-color);\n",
              "    animation:\n",
              "      spin 1s steps(1) infinite;\n",
              "  }\n",
              "\n",
              "  @keyframes spin {\n",
              "    0% {\n",
              "      border-color: transparent;\n",
              "      border-bottom-color: var(--fill-color);\n",
              "      border-left-color: var(--fill-color);\n",
              "    }\n",
              "    20% {\n",
              "      border-color: transparent;\n",
              "      border-left-color: var(--fill-color);\n",
              "      border-top-color: var(--fill-color);\n",
              "    }\n",
              "    30% {\n",
              "      border-color: transparent;\n",
              "      border-left-color: var(--fill-color);\n",
              "      border-top-color: var(--fill-color);\n",
              "      border-right-color: var(--fill-color);\n",
              "    }\n",
              "    40% {\n",
              "      border-color: transparent;\n",
              "      border-right-color: var(--fill-color);\n",
              "      border-top-color: var(--fill-color);\n",
              "    }\n",
              "    60% {\n",
              "      border-color: transparent;\n",
              "      border-right-color: var(--fill-color);\n",
              "    }\n",
              "    80% {\n",
              "      border-color: transparent;\n",
              "      border-right-color: var(--fill-color);\n",
              "      border-bottom-color: var(--fill-color);\n",
              "    }\n",
              "    90% {\n",
              "      border-color: transparent;\n",
              "      border-bottom-color: var(--fill-color);\n",
              "    }\n",
              "  }\n",
              "</style>\n",
              "\n",
              "  <script>\n",
              "    async function quickchart(key) {\n",
              "      const quickchartButtonEl =\n",
              "        document.querySelector('#' + key + ' button');\n",
              "      quickchartButtonEl.disabled = true;  // To prevent multiple clicks.\n",
              "      quickchartButtonEl.classList.add('colab-df-spinner');\n",
              "      try {\n",
              "        const charts = await google.colab.kernel.invokeFunction(\n",
              "            'suggestCharts', [key], {});\n",
              "      } catch (error) {\n",
              "        console.error('Error during call to suggestCharts:', error);\n",
              "      }\n",
              "      quickchartButtonEl.classList.remove('colab-df-spinner');\n",
              "      quickchartButtonEl.classList.add('colab-df-quickchart-complete');\n",
              "    }\n",
              "    (() => {\n",
              "      let quickchartButtonEl =\n",
              "        document.querySelector('#df-ed2bc6ba-f5e9-490f-8826-eb956059391e button');\n",
              "      quickchartButtonEl.style.display =\n",
              "        google.colab.kernel.accessAllowed ? 'block' : 'none';\n",
              "    })();\n",
              "  </script>\n",
              "</div>\n",
              "\n",
              "    </div>\n",
              "  </div>\n"
            ],
            "application/vnd.google.colaboratory.intrinsic+json": {
              "type": "dataframe",
              "variable_name": "professors",
              "summary": "{\n  \"name\": \"professors\",\n  \"rows\": 1142,\n  \"fields\": [\n    {\n      \"column\": \"Unnamed: 0\",\n      \"properties\": {\n        \"dtype\": \"number\",\n        \"std\": 520,\n        \"min\": 2,\n        \"max\": 1980,\n        \"num_unique_values\": 1142,\n        \"samples\": [\n          380,\n          1863,\n          696\n        ],\n        \"semantic_type\": \"\",\n        \"description\": \"\"\n      }\n    },\n    {\n      \"column\": \"S#\",\n      \"properties\": {\n        \"dtype\": \"number\",\n        \"std\": 520,\n        \"min\": 3,\n        \"max\": 1981,\n        \"num_unique_values\": 1142,\n        \"samples\": [\n          381,\n          1864,\n          697\n        ],\n        \"semantic_type\": \"\",\n        \"description\": \"\"\n      }\n    },\n    {\n      \"column\": \"Teacher Name\",\n      \"properties\": {\n        \"dtype\": \"string\",\n        \"num_unique_values\": 1133,\n        \"samples\": [\n          \"SAQIB HUSSAIN SIDDIQUI\",\n          \"Muhammad Zafer Iqbal Siddiqui\",\n          \"Dr. Fawaz Bokhari\"\n        ],\n        \"semantic_type\": \"\",\n        \"description\": \"\"\n      }\n    },\n    {\n      \"column\": \"University Currently Teaching\",\n      \"properties\": {\n        \"dtype\": \"category\",\n        \"num_unique_values\": 63,\n        \"samples\": [\n          \"Abasyn University\",\n          \"University of Engineering and Technology,Peshawar\",\n          \"University of Balochistan\"\n        ],\n        \"semantic_type\": \"\",\n        \"description\": \"\"\n      }\n    },\n    {\n      \"column\": \"Department\",\n      \"properties\": {\n        \"dtype\": \"category\",\n        \"num_unique_values\": 17,\n        \"samples\": [\n          \"Computer Science & IT\",\n          \"Computer Science\",\n          \"Computer Science and IT\"\n        ],\n        \"semantic_type\": \"\",\n        \"description\": \"\"\n      }\n    },\n    {\n      \"column\": \"Province University Located\",\n      \"properties\": {\n        \"dtype\": \"category\",\n        \"num_unique_values\": 5,\n        \"samples\": [\n          \"Capital\",\n          \"KPK\",\n          \"Punjab\"\n        ],\n        \"semantic_type\": \"\",\n        \"description\": \"\"\n      }\n    },\n    {\n      \"column\": \"Designation\",\n      \"properties\": {\n        \"dtype\": \"category\",\n        \"num_unique_values\": 46,\n        \"samples\": [\n          \"Lab Engineer\",\n          \"Tutor/Instructor\",\n          \"Research Associate\"\n        ],\n        \"semantic_type\": \"\",\n        \"description\": \"\"\n      }\n    },\n    {\n      \"column\": \"Terminal Degree\",\n      \"properties\": {\n        \"dtype\": \"category\",\n        \"num_unique_values\": 41,\n        \"samples\": [\n          \"BSCS\",\n          \"MPhil\",\n          \"MBA\"\n        ],\n        \"semantic_type\": \"\",\n        \"description\": \"\"\n      }\n    },\n    {\n      \"column\": \"Graduated from\",\n      \"properties\": {\n        \"dtype\": \"category\",\n        \"num_unique_values\": 347,\n        \"samples\": [\n          \"Brock University Canada\",\n          \"FAST\\u2013 National University of Computer and Emerging Sciences,Lahore\",\n          \"The University of Queensland\"\n        ],\n        \"semantic_type\": \"\",\n        \"description\": \"\"\n      }\n    },\n    {\n      \"column\": \"Country\",\n      \"properties\": {\n        \"dtype\": \"category\",\n        \"num_unique_values\": 35,\n        \"samples\": [\n          \"South Korea\",\n          \"Canada\",\n          \"Greece\"\n        ],\n        \"semantic_type\": \"\",\n        \"description\": \"\"\n      }\n    },\n    {\n      \"column\": \"Year\",\n      \"properties\": {\n        \"dtype\": \"number\",\n        \"std\": 5.577564965981741,\n        \"min\": 1983.0,\n        \"max\": 2018.0,\n        \"num_unique_values\": 32,\n        \"samples\": [\n          1987.0,\n          1983.0,\n          1994.0\n        ],\n        \"semantic_type\": \"\",\n        \"description\": \"\"\n      }\n    },\n    {\n      \"column\": \"Area of Specialization/Research Interests\",\n      \"properties\": {\n        \"dtype\": \"category\",\n        \"num_unique_values\": 570,\n        \"samples\": [\n          \"E-commerce, usability testing, User interface design, User acceptance testing, User experience design, Databases, Requirement engineering & analysis, Human-computer-interaction.\",\n          \"Artificial Intelligence, Model Base Testing\",\n          \"Data Mining, Quality Management, Project Management\"\n        ],\n        \"semantic_type\": \"\",\n        \"description\": \"\"\n      }\n    },\n    {\n      \"column\": \"Other Information\",\n      \"properties\": {\n        \"dtype\": \"category\",\n        \"num_unique_values\": 51,\n        \"samples\": [\n          \"PhD in progress from  Federal Urdu University of Arts, Science & Technology\",\n          \"MSSE in progress from PAK-KIEFT\",\n          \"On study leave\"\n        ],\n        \"semantic_type\": \"\",\n        \"description\": \"\"\n      }\n    }\n  ]\n}"
            }
          },
          "metadata": {},
          "execution_count": 1
        }
      ]
    },
    {
      "cell_type": "code",
      "source": [
        "for column in professors:\n",
        "    print(\"Column\",\" \",column,\"  uniquevalue  are :\", professors[column].nunique())\n",
        "    print(professors[column].unique())\n",
        "    print(\"-------------------------\")"
      ],
      "metadata": {
        "colab": {
          "base_uri": "https://localhost:8080/"
        },
        "id": "Sea5hx3hFHxI",
        "outputId": "f98419e7-29e8-48f8-dafa-27d82b767eb0"
      },
      "execution_count": null,
      "outputs": [
        {
          "output_type": "stream",
          "name": "stdout",
          "text": [
            "Column   Unnamed: 0   uniquevalue  are : 1142\n",
            "[   2    4    5 ... 1977 1979 1980]\n",
            "-------------------------\n",
            "Column   S#   uniquevalue  are : 1142\n",
            "[   3    5    6 ... 1978 1980 1981]\n",
            "-------------------------\n",
            "Column   Teacher Name   uniquevalue  are : 1133\n",
            "['Dr. Abdul Basit' 'Dr. Waheed Noor' 'Dr. Junaid Baber' ...\n",
            " 'Dr. Rashad M Jillani' 'Dr. Shahabuddin Ansari' 'Dr. Sajid Anwar']\n",
            "-------------------------\n",
            "Column   University Currently Teaching   uniquevalue  are : 63\n",
            "['University of Balochistan' \"Sardar Bahadur Khan Women's University\"\n",
            " 'University of Turbat' 'COMSATS, Islamabad Campus'\n",
            " 'National University of Sciences and Technology' 'RIPHAH International'\n",
            " 'FAST-NU(Islamabad)' 'International Islamic University,Islamabad'\n",
            " 'National University of Modern Languages' 'Air University'\n",
            " 'Bahria University,Islamabad'\n",
            " 'Capital University of Science and Technology'\n",
            " 'Pakistan Institute of Engineering and Applied Sciences'\n",
            " 'University of Sargodha,Mandi Bahauddin Campus' 'NAML-Mianwali'\n",
            " 'University of Lahore-PakPattan' 'University of Sahiwal'\n",
            " 'Barani Institute of Information and Technology'\n",
            " 'Fatima Jinnah Women University' 'FAST(Faisalabad)'\n",
            " 'University of Central Punjab' 'Lahore Garrison University'\n",
            " 'Punjab University College of Information and Technology' 'FAST(Lahore)'\n",
            " 'Information Technology University'\n",
            " 'Lahore University of Management Sciences' 'Virtual University'\n",
            " 'University of Management and Technology' 'Minhaj University Lahore'\n",
            " 'Beaconhouse National University'\n",
            " 'Shaheed Zulfikar Ali Bhutto Institute of Science and Technology'\n",
            " 'QUAID-E-AWAM UNIVERSITY OF ENGINEERING, SCIENCE & TECHNOLOGY,NAWABSHAH\\n'\n",
            " 'Shah Abdul Latif University, Khairpur'\n",
            " 'Shaheed Benazir Bhutto University,Shaheed Benazirabad\\n'\n",
            " 'University of Sindh' 'FAST(Karachi)' 'University of Karachi' 'NED,UET'\n",
            " 'Institute of Business Administration, Karachi\\xa0'\n",
            " 'Institute of Business Administration,Sukkur' 'ISRA University'\n",
            " 'Sir Syed University of Engineering and Technology'\n",
            " 'Jinnah University for Women' 'DHA Suffa University'\n",
            " 'PAF-Karachi Institute of Economics and Technology'\n",
            " 'Mohammad Ali Jinnah University' 'Habib University'\n",
            " 'Islamia University Bhawalpur' 'University of Chakwal'\n",
            " 'Government College University Faisalabad'\n",
            " 'National Textile University,Faisalabad'\n",
            " 'NFC Institute of Engineering and Fertilizer Research'\n",
            " 'Riphah University,Faisalabad' 'Gift University'\n",
            " 'Punjab University,Gujranwala Campus' 'University of Gujrat'\n",
            " 'University of Peshawar'\n",
            " 'University of Engineering and Technology,Peshawar'\n",
            " 'University of Agriculture,Peshawar' 'FAST,Peshawar' 'City University'\n",
            " 'Abasyn University' 'Ghulam Ishaq Khan Institute']\n",
            "-------------------------\n",
            "Column   Department   uniquevalue  are : 17\n",
            "['Computer Science & IT' 'Computer Science' 'Computing'\n",
            " 'Computer Science and Software Engineering'\n",
            " 'Computer and Information Sciences' 'Computer Science and IT'\n",
            " 'Software Engineering' 'Computer Sciences' 'Information Technology'\n",
            " 'CS & IT' 'School of Information and Technology'\n",
            " 'Institute of Mathematics & Computer Science'\n",
            " 'ENGINEERING, SCIENCE & TECHNOLOGY' 'Computer Engineering'\n",
            " 'Computing & Information Sciences' 'FACULTY OF COMPUTING & ENGINEERING'\n",
            " 'Computer Science and Engineering']\n",
            "-------------------------\n",
            "Column   Province University Located   uniquevalue  are : 5\n",
            "['Balochistan' 'Capital' 'Punjab' 'Sindh' 'KPK']\n",
            "-------------------------\n",
            "Column   Designation   uniquevalue  are : 46\n",
            "['Assistant Professor' 'Lecturer' 'Head of Department' 'Professor'\n",
            " 'Chief Scientific Officer' 'Associate Professor' 'Dean'\n",
            " 'Professor/Associate Dean (Research)' nan 'Professor/HoD'\n",
            " 'Associate Professor/Chairman' 'Assistant Professor/Acting Chairperson'\n",
            " 'Senior Assistant Professor' 'Senior Lecturer' 'Jr.Lecturer'\n",
            " 'Professor/Dean' 'Head' 'Controller of Examinations'\n",
            " 'Associate Professor/HoD' 'HEC Approved PhD Supervisor' 'Instructor'\n",
            " 'Principal' 'Adjunct Professor' 'Vice Chancellor'\n",
            " 'Associate Professor/Chairperson' 'Associate Professor/Chair'\n",
            " 'Tutor/Instructor' 'Research Associate' 'Chairman' 'I.T Manager'\n",
            " 'Assistant Professor/HoD' 'Vice President/Dean' 'Professor/Chairman'\n",
            " 'Professor/Director & Registrar' 'Professor/Co-Chairman'\n",
            " 'Professor/Chairperson' 'Director' 'Permanent Faculty' 'Faculty Member'\n",
            " 'Assistant Professor/Director' 'Lab Engineer'\n",
            " 'Assistant Professor/Chairman' 'Assistant Professor/Principal'\n",
            " 'Teaching Fellow' 'Assistant Professor/Incharge Department'\n",
            " 'Departmental Assistant' 'Teaching Assistant']\n",
            "-------------------------\n",
            "Column   Terminal Degree   uniquevalue  are : 41\n",
            "['PhD' 'BS' 'MCS' 'MS' 'BE' 'Phd' nan 'PostDoc' 'Masters' 'MBA' 'MSc'\n",
            " 'BIT' 'MA' 'Mphil' 'MPhil' 'Post Doc' 'MIT' 'BSC' 'MSCS' 'BSIT' 'MSC'\n",
            " 'M.Phil' 'Master' 'Bachelors' 'M.Phil leading to PhD' 'BSCS' 'M.Sc' 'BCS'\n",
            " 'ME' 'B.Ed' 'M.A' 'M.Eng' 'MCIT' 'B.E' 'M.E' 'MSIT' 'Ph.D' 'MSSE' 'MSTN'\n",
            " 'Doctor of Professional Studies' 'BSc' 'BA']\n",
            "-------------------------\n",
            "Column   Graduated from   uniquevalue  are : 347\n",
            "['Asian Institute of Technology'\n",
            " 'Balochistan University of Information Technology, Engineering and Management Sciences'\n",
            " 'University of Balochistan' \"Sardar Bahadur Khan Women's University\"\n",
            " 'SRH Hochschule Heidelberg'\n",
            " 'Institute of Business Administration,Karachi' 'DUET,Karachi'\n",
            " 'University of Turbat' 'University of Vienna' 'Monash University'\n",
            " 'University of Stirling' 'Chinese Academy of Sciences'\n",
            " 'University of Innsbruck' 'Vienna University of Technology'\n",
            " 'University of Paris-Est' 'The University of Cambridge'\n",
            " 'Harbin Institute of Technology' 'University of Nice, Sophia Antipolis'\n",
            " 'The University of York' 'Galilée - Université Paris 13'\n",
            " 'University of Bedfordshire' 'North Dakota State University'\n",
            " 'Kyungpook National University' 'The University of Manchester'\n",
            " 'National University of Sciences and Technology'\n",
            " 'FAST– National University of Computer and Emerging Sciences'\n",
            " 'Capital University of Science & Technology' 'Gomal University'\n",
            " 'University of Malaya' 'KTH Royal Institute of Technology'\n",
            " 'University of Technology' 'COMSATS Institute of Information Technology'\n",
            " 'Government College University' 'Mohammad Ali Jinnah University'\n",
            " 'Shaheed Zulfikar Ali Bhutto Institute of Science and Technology'\n",
            " 'Blekinge Institute of Technology' 'University of Grenoble'\n",
            " 'Politecnico di Torino' '\\xa0University of Missouri, KC'\n",
            " 'University of Bonn' 'University of Paris' 'The University of Leeds'\n",
            " '\\xa0University of Windsor'\n",
            " '\\xa0National University of Sciences and Technology-NIIT'\n",
            " 'University of Trento' 'Stockholm University'\n",
            " 'University of New South Wales, Sydney' 'Kingston University London'\n",
            " 'Griffith University' 'University of Salford' 'Loughborough University'\n",
            " 'International Islamic University,Islamabad'\n",
            " 'University of Central Missouri' 'Riphah International University'\n",
            " 'University of BedfordShire' 'University of Illinois'\n",
            " 'University Of Oslo' 'Nancy 2 University' 'University of Limerick'\n",
            " 'Ghulam Ishaq Khan Institute of Science and Technology'\n",
            " 'University Of Waterloo' 'University of Stuttgart'\n",
            " 'Liverpool John Moores University' 'University Of Caen'\n",
            " 'Paris Tech University of Eurecom' 'University Of Salford'\n",
            " 'Lahore University of Management Sciences'\n",
            " 'Dresden University Of Technology, Dresden\\xa0'\n",
            " 'COMSATS Institute of Information Technology,Vehari'\n",
            " 'COMSATS Institute of Information Technology,Wah Cantt' 'TU Berlin'\n",
            " 'FAST– National University of Computer and Emerging Sciences,Islamabad'\n",
            " 'Tsinghua University' 'The University of Auckland' 'IQRA University'\n",
            " 'Universiti Teknologi PETRONAS'\n",
            " 'COMSATS Institute of Information Technology,Islamabad'\n",
            " 'Razak School of Engineering and Advanced Technology, Universiti Teknologi Malaysia (UTM)'\n",
            " 'National University of Modern Languages'\n",
            " 'University of Engineering and Technology'\n",
            " 'University Institute of Information Technology'\n",
            " 'University of Arid Agriculture' 'Quaid-i-Azam University'\n",
            " 'Queen Mary University of London'\n",
            " 'Pakistan Institute of Engineering and Applied Sciences'\n",
            " 'Pohang University of Science and Technology' 'Uppsala University'\n",
            " 'Kyung Hee University' 'University of Liverpool'\n",
            " 'University of Sunderland' 'Mid Sweden University'\n",
            " 'Bahria University,Islamabad' 'Chosun University' 'University of Sussex'\n",
            " 'Paris Descartes University' 'University of Leicester'\n",
            " 'University of Porto' 'University of Manchester'\n",
            " 'Université Henri Poincaré, Nancy 1,' 'Bahria University'\n",
            " 'Centre for Advanced Studies in Engineering'\n",
            " 'Norwegian University of Science and Technology (NTNU),'\n",
            " 'The Islamia University of Bahawalpur' 'Universiti Technologi'\n",
            " 'California State University' 'University of Genova'\n",
            " 'University of Engineering and Technology,Taxila'\n",
            " 'University of\\xa0Liverpool John Moores University' 'Guildford'\n",
            " 'University of Bradford' 'Graz University of Technology'\n",
            " 'Huazhong University of Science and Technology (HUST), Wuhan'\n",
            " 'University of Konstanz'\n",
            " 'National University of Modern Languages,Islamabad'\n",
            " 'FAST– National University of Computer and Emerging Sciences,Lahore'\n",
            " 'Gwangju Institute of Science and Technology' 'University of Birmingham'\n",
            " 'Manchester University' 'Beijing Institute of Technology'\n",
            " 'University of Paisley'\n",
            " 'Univ of Porto/Univ of Aveiro Portugal/Uni of Minho'\n",
            " 'University of Peshawar' 'Universität Salzburg'\n",
            " 'Colorado State University' 'University of Virginia'\n",
            " 'University of Orleans' 'Zhejiang University' 'University of Leeds'\n",
            " 'Foundation University' 'Barani Institute of Information Technology'\n",
            " 'Abasyn University' 'Pir Mehr Ali Shah Arid Agriculture University'\n",
            " 'Preston' 'University of Bergen' 'Universtiy of Lahore'\n",
            " 'HITEC University,Taxila' 'Allama Iqbal Open University'\n",
            " 'University of Wales,Aberystwyth' '\\xa0University of Bonn'\n",
            " '\\xa0Hongik University'\n",
            " 'Skolkovo Institute of Science and Technology,\\xa0'\n",
            " 'Agricultural University Peshawar' 'National Textile University'\n",
            " 'FAST– National University of Computer and Emerging Sciences,Chiniot-Faisalabad'\n",
            " 'FAST– National University of Computer and Emerging Sciences,Peshawar'\n",
            " '\\xa0Boston University' 'Brunel University'\n",
            " 'George Washington University' 'University of the Punjab'\n",
            " '\\xa0University of Bedfordshire' 'University Of Southern California'\n",
            " 'Beihang University' 'Institute of Business Administration'\n",
            " 'Abdus Salam School of Mathematical Sciences,GC University'\n",
            " 'Linköping University'\n",
            " 'National College of Business Administration and Economics'\n",
            " 'Åbo Akademi University,' 'University of Central Punjab'\n",
            " 'University of Ulm' 'University of Agriculture'\n",
            " 'University of Notre Dame Indiana\\xa0'\n",
            " 'Punjab University College of Information Technology'\n",
            " 'Ilmenau University of Technology' 'Iowa State University'\n",
            " 'Vrije University, Amsterdam' 'Columbia University'\n",
            " 'University of Freiburg' 'Delft University of Technology'\n",
            " 'University of Texas at Arlington (UTA)' 'University of Turin'\n",
            " 'University of Central Florida' 'Saarland University'\n",
            " 'Oxford Brookes University' 'Information Technology University (ITU)'\n",
            " 'University of Canterbury' 'University of Patras'\n",
            " 'Middle East Technical University' 'University of Bristol'\n",
            " 'University of Southern California' 'Northeastern University,Boston'\n",
            " 'Purdue University' 'University of Plymouth'\n",
            " 'University of South Australia' 'Stanford University'\n",
            " 'Chalmers University of Technology'\n",
            " 'Massachusetts Institute of Technology' 'Sapienza University of Rome'\n",
            " 'Eindhoven University of Technology (TU/e)'\n",
            " 'United Nations University International Institute for Software Technology (UNU-IIST)'\n",
            " 'Georgetown University,DC' 'RWTH Aachen University'\n",
            " 'Rutgers State University of New Jersey, NJ' 'University of Florida'\n",
            " 'Technical University of Braunschweig'\n",
            " 'Carnegie Mellon University, Pittsburgh' 'The Ohio State University'\n",
            " 'National University of Singapore' 'University of British Columbia'\n",
            " 'University of Pittsburgh' 'The State University of New Jersey'\n",
            " 'The University of Texas at Austin'\n",
            " 'Imperial College, University of London' 'University of Colorado\\xa0'\n",
            " 'University of Bath' 'Tilburg University'\n",
            " 'Pompeu Fabra University Barcelona'\n",
            " 'University of Management and Technology'\n",
            " 'COMSATS Institute of Information Technology,Lahore'\n",
            " 'University of Agriculture, Faisalabad\\xa0'\n",
            " 'University of Engineering & Technology'\n",
            " 'University of Agriculture, Faisalabad'\n",
            " 'Fatima Jinnah Women University, Rawalpindi'\n",
            " 'Kohat University of Science & Technology, Kohat'\n",
            " 'Virtual University of Pakistan' 'Bahauddin Zakariya University'\n",
            " 'University of the Punjab,Gujranwala'\n",
            " 'Lahore College for Women University' 'Superior University, Lahore'\n",
            " 'Shaheed Zulfikar Ali Bhutto Institute of Science and Technology,Islamabad'\n",
            " 'University of South Florida' 'Politecnico di Milano'\n",
            " 'Abdul Wali Khan University, Mardan' 'University of Lahore'\n",
            " 'Minhaj University Lahore' 'Lahore Leads University'\n",
            " 'Middlesex University' 'Beijing Institute of Technology Beijing'\n",
            " 'Beaconhouse National University' 'Hamdard University' 'University Paris'\n",
            " 'Sindh University' 'NED University of Engineering And Technology'\n",
            " 'Staffordshire University' 'DePaul University, Chicago'\n",
            " 'University of Kent' 'Mehran University of Engineering & Technology'\n",
            " 'Quaid-e-Awam University of Engineering, Science & Technology'\n",
            " 'Shah Abdul Latif University, Khairpur' 'Sindh Agriculture University'\n",
            " 'Swansea' 'University of Shanghai for Science and Technology'\n",
            " 'Griffith University,Nathan Campus' 'University of Essex'\n",
            " 'Xiamen university' 'Wayne State University'\n",
            " 'The Queens University of Belfast' 'Sungkyunkwan University'\n",
            " 'Nanyang Tech University' \"Universite d'Evry Val d'Essonne\"\n",
            " 'Sir Syed University of Engineering and Technology'\n",
            " 'New York Institute of Technology' 'Fedral Urdu University'\n",
            " 'ISRA University' 'University of Karachi' 'South Asian University'\n",
            " 'Capital University of Science and Technology'\n",
            " 'University of Manchester Institute of Science and Technology'\n",
            " 'The University of Birmingham'\n",
            " 'Max Planck Institute for Computer Science' 'George Mason University'\n",
            " 'University of Southampton' 'Temple University' 'University of Bayreuth'\n",
            " 'Muroran Institute of Technology,Hokkaido' 'University of Bologna'\n",
            " 'International Islamic University'\n",
            " 'PAF-Karachi Institute of Economics and Technology'\n",
            " 'Institute of Business Administration,Sukkur' 'Myongji University'\n",
            " 'State University of New York System' 'SSindh Agriculture University'\n",
            " 'London University' 'Universiti Putra Malaysia Putra'\n",
            " 'University of Rome Tor Vergata' 'University of Mississippi\\xa0'\n",
            " 'University of Wales' 'University of Northampton'\n",
            " 'University of Abertay Dundee'\n",
            " 'Biztek Institute Of Business & Technology,Karachi'\n",
            " 'University of Surrey' 'Jinnah University for Women'\n",
            " '\\xa0Nanyang Technological University' 'Tokyo Institute of Technology'\n",
            " 'NCSU' 'Usman Institute of Technology' 'Hanyang University, Ansan' 'BUKC'\n",
            " 'Universtiy of Karachi' 'Pace University, New York' 'INSA de Lyon, Rhone'\n",
            " 'University of Dundee' 'Illinois Institute of Technology'\n",
            " 'City University of Science and Technology'\n",
            " 'Usman Institute of Technology (Hamdard University)'\n",
            " 'University of Malaga' 'Manchester Metropolitan University'\n",
            " 'Kyushu University,Fukuoka'\n",
            " 'King Abdullah University of Science and Technology'\n",
            " 'INRIA Saclay Ile-de-France' 'Université de la Rochelle'\n",
            " 'University of South Brittany' 'Aston University, Birmingham'\n",
            " 'University of Agriculture Faisalabad' 'Hamburg University of Technology'\n",
            " 'Government College University, Faisalabad' 'JKU' 'University of Oviedo'\n",
            " 'Beijing University of Posts & Telecommunications'\n",
            " 'Government College University,Faisalabad' 'Nottingham Trent University'\n",
            " 'University of Glasgow' 'Coventry University'\n",
            " 'Riphah International University,Faisalabad'\n",
            " 'Australian National University, Caneberra'\n",
            " 'Swedish University of Agricultural Sciences, Uppsala'\n",
            " 'University of Gujrat' 'IQRA University,Islamabad' 'Jonkoping University'\n",
            " 'Colorado Technical University' 'Cranfield University'\n",
            " 'Technical University of Graz' 'University of York'\n",
            " 'Brock University Canada' 'University of Westminster'\n",
            " 'University of Saarland' 'The University of Queensland'\n",
            " 'University of Rochester' 'Islamia College University'\n",
            " 'IBMS KP Agricultural University Peshawar' 'University of Kuala Lumpur'\n",
            " 'University of Regina' 'TU Wien' 'Swinburne University Of Technology'\n",
            " 'Institute Of Managment Sciences, Peshawar'\n",
            " 'Universiti Tun Hussein Onn Malaysia'\n",
            " 'Institute of Management Sciences, Peshawar' 'University of Huddersfield'\n",
            " 'University of Engineering and Technology,Peshawar'\n",
            " 'IQRA University,Karachi' 'John Moorse University, Liverpool'\n",
            " 'CECOS University of Information Technology and Emerging Sciences,Peshawar'\n",
            " 'University of the West Scotland' 'Concordia University,Montreal' 'JNU'\n",
            " 'Grenoble' 'Florida Atlantic University' 'Seoul National University']\n",
            "-------------------------\n",
            "Column   Country   uniquevalue  are : 35\n",
            "['Thailand' 'Pakistan' 'germany' 'Austria' 'Australia' 'UK' 'China'\n",
            " 'France' 'USofA' 'SouthKorea' 'Malaysia' 'Sweden' 'Italy' 'Canada'\n",
            " 'Norway' 'Ireland' 'New Zealand' 'Urbana' 'Portugal' 'Russian Federation'\n",
            " 'USA' 'Finland' 'Netherland' 'Germany' 'Greece' 'Turkey' 'South Korea'\n",
            " 'Macau' 'Singapore' 'Spain' 'Japan' 'HongKong' 'Saudi Arabia' 'Mauritius'\n",
            " 'Scotland']\n",
            "-------------------------\n",
            "Column   Year   uniquevalue  are : 32\n",
            "[  nan 2005. 2008. 2011. 2009. 2006. 2007. 2010. 2012. 2014. 2013. 2016.\n",
            " 2003. 2017. 2015. 2002. 1983. 2000. 1997. 2018. 2004. 1991. 1995. 1999.\n",
            " 1996. 1994. 1993. 1988. 1992. 1985. 1987. 1990. 2001.]\n",
            "-------------------------\n",
            "Column   Area of Specialization/Research Interests   uniquevalue  are : 570\n",
            "['Software Engineering & DBMS' 'DBMS'\n",
            " 'Information processing, Multimedia mining'\n",
            " 'NLP, Information Retrieval, Question Answering system'\n",
            " 'VLSI Electronics DLD Database'\n",
            " 'Software Engineering, Computer Networks.'\n",
            " 'Human computer Interaction, Web Development, Software Engineering, Networking'\n",
            " 'Human Computer Interaction, Web' 'JAVA Programming' 'Programming'\n",
            " 'Object Detection, Object Tracking, Pattern Recognition, Human Computer Interaction, Software Engineering, Data Structures and Algorithms, Object Oriented Programming'\n",
            " 'Semantic Web, Machine Learning' 'Semantic Web'\n",
            " 'Computer Graphics, Digital Logic Design, Software Engineering, Operating Systems, Artificial Intelligence'\n",
            " 'Data Structures & Algorithms, Programming'\n",
            " 'Software Engineering, Theory of Automata and Formal Languages'\n",
            " 'wireless sensor networks, MANETS and internet of things'\n",
            " 'Machine Learning and Data mining, decision support system and business intelligence, big data analytics, outcome based education'\n",
            " 'Complex Communication Networks such as Internet of Things, Online social networks, Wireless Sensor networks etc. Biological Networks Modeling and Simulation, Agent-based Computing.'\n",
            " 'Mining Data Streams, Ubiquitous Data Mining, Intrusion Detection, Distributed Data Mining, Machine learning and data mining, Real-Time system; Publish/Subscribe system; Wireless Sensor Networks, Active databases ECA Rules'\n",
            " 'software pipelining, chromatic scheduling, reliable computing and real-time systems'\n",
            " 'system administration and research and development' nan\n",
            " 'Wireless Ad-hoc, Sensor, Vehicular and Body Area Networks'\n",
            " 'modelling and simulating change/business processes, software engineering for mobile applications.'\n",
            " '\\xa0Information security & privacy, Distributed Computing, Knowledge-Based Systems, Data provenance and Semantic Web Technologies.\\xa0'\n",
            " 'security & privacy of cloud computing(outsourced storage & computation), security protocols, Digital watermarking, Secure Provenance'\n",
            " 'Image processing, computer vision, information security'\n",
            " '\\xa0Natural Language Processing (NLP), which falls under the broader category of Artificial Intelligence. Dr. Shahid is interested in building multilingual, bilingual and monolingual resources using supervised and unsupervised learning approaches. He is also interested in applications of Machine Learning approaches.'\n",
            " 'Routing, medium access control, resource allocation and security related issues in: Internet of Things, cloud computing, Wireless Ad hoc Networks (Sensor networks, vehicular networks, cognitive radio networks, delay tolerant networks) & smart grids.\\xa0Moreover, I am interested in applications of algorithmic game theory to various problems in wireless networks and global software development.'\n",
            " '\\xa0MAC protocol design, Internet of Things, and security issues in wireless communication systems'\n",
            " 'Collaborative systems, Social Network Analysis, Information privacy, and Access Control'\n",
            " '\\xa0Formal Methods (verification, modeling, and analysis) of Large Scale Systems, such as Cloud Computing System'\n",
            " 'Vehicular Ad-hoc Network, Wireless Sensor Network, Underwater Wireless Sensor Network, Cyber Physical Systems, Software defined Networking, Information-centric Networking.'\n",
            " 'query processing in wireless sensor network, distributed spatial analysis, distributed computing using ad hoc wireless networks.'\n",
            " 'Wireless Sensor Networks. She is interested in the design and performance evaluation of communication protocols for wireless ad hoc and sensor networks. She is also interested in Information Centric Networks.'\n",
            " 'Artificial Intelligence, Data Mining, Machine Learning, Software Engineering, Requirement Engineering.'\n",
            " 'routing issues on\\xa0Wireless Sensor Networks or Wireless Body Area Networks.'\n",
            " '\\xa0Computer Security and Application of Cellular Automata.'\n",
            " 'Object Oriented Programming, Visual Programming, Software Project Management and Model Transformation.'\n",
            " 'Software Project Management and Software Engineering.'\n",
            " 'Smart Health, Big Data Analytics, Recommendation Systems, Patent Analysis, and Social Network Analysis'\n",
            " 'Software Process Improvement, Requirements Engineering & Software Development Outsourcing\\xa0'\n",
            " '\\xa0interactive systems, human computer interaction, ubiquitous computing and multimodal interfaces.'\n",
            " 'n HCI in general and usability evaluation / user experience\\xa0'\n",
            " 'Underwater Wireless Sensor Networks and Energy Management.'\n",
            " '\\xa0Natural Language Processing, Machine Learning, and Text Mining.'\n",
            " '\\xa0Secure & Dependable Software Defined Networks, Man-at-the-End Attacks Plus Human Attacker Attribution & Profiling, Large Scale Distributed Systems (Fog, Edge, and Cloud Computing (CC), Mobile Cloud Computing (MCC) etc.), Remote Data Auditing, Light Weight Cryptography, Blockchain and Cryptocurrency.'\n",
            " 'Software Testing, Object Oriented Analysis and Design, and Formal Methods'\n",
            " 'Business Intelligence, Information System Management and E-Commerce.'\n",
            " 'Visual Perception, Computer Vision, GPGPU'\n",
            " 'Native Simulation of MPSoC, Virtualization, Software Performance Estimation and Binary Translation'\n",
            " 'Parallel and Distributed Simulation'\n",
            " 'Question Answering, Credibility Assessment, Information Retrieval, Information Processing, Semantic Web'\n",
            " 'Energy Efficiency in Telecommunication Networks, Optical Network Optimization'\n",
            " 'Wireless Networks'\n",
            " 'Wireless Sensor Networks, IOT, Image Encryption and Compression, Localization'\n",
            " 'Human motion analysis, character animation, inertial based motion analysis, ubiquitous computing, robotics'\n",
            " 'Localization in wireless sensor networks; Soft computing techniques'\n",
            " 'Surgical Robotics, Mathematical Modeling, Fuzzy Controllers'\n",
            " 'Databases, Information Retrieval' 'Management and Technology in general'\n",
            " 'Distributed Computing' 'e-learning, Big Data, Application Development'\n",
            " 'Machine Learning'\n",
            " 'Wireless Sensor Networks, Data Centre Networking, Software Defined Networking'\n",
            " 'Pattern Recognition, Computer Vision and Machine Learning, Medical Image Analysis'\n",
            " 'Scientific and Information Visualization, Comparative Visualization, Industrial CT (HEC Approved PhD Supervisor)'\n",
            " 'Software Enginneering, System Modeling and Analysis, Formal Verification'\n",
            " 'Software Engineering, Requirements Engineering, Software Quality, Software Engineering Education (e-Learning), Cybersecurity (Governance, Management, Audit, Data Security and Privacy)'\n",
            " 'Empirical Software Engineering, Requirements Engineering, Usability Engineering, Global Software Development, Agile Development, Software Engineering Education'\n",
            " 'Artificial Intelligence, Model Base Testing'\n",
            " 'Wireless Networks, Evolutionary Computing, Machine Learning'\n",
            " 'Software Engineering Practices, Web Development, Software Project Management'\n",
            " 'Data Science, Machine Learning, Software Engineering,'\n",
            " 'Data Mining, Computational Intelligence, Machine Learning, and Theory of Computation\\xa0'\n",
            " 'Databases, Grid Computing, Cloud Computing, Information Systems and Software Applications Architecture'\n",
            " 'Computational Structural Biology. He is particularly interested in computational identification of novel drug targets, drug repositioning, biophysical modelling of tissues and computational characterization of membrane proteins.'\n",
            " 'Artificial Intelligence, Computational Intelligence, Machine Learning, Data Mining & Knowledge Discovery, Evolutionary Gaming, Machine Vision & Robotics'\n",
            " 'computer networks, high-performance computing and computer communications, performance evaluation (simulation and analytical modeling) of computer and communication systems and mobility management. Currently, he is working on mobility cost analysis in mobile networks.'\n",
            " 'model-driven engineering, software testing, and empirical software engineering'\n",
            " 'Cloud Computing and Services Composition'\n",
            " 'Artificial Intelligence, Computational Intelligence, Machine Learning, Data Mining & Knowledge Discovery, Evolutionary Gaming, Machine Vision & Robotics.'\n",
            " 'agile software development methods, empirical software engineering, requirements engineering, wearable learning, and merger of artificial intelligence with software engineering'\n",
            " 'confluence of Green Computation,\\xa0Compiler Optimizations,\\xa0Memory Hierarchy Optimizations,\\xa0Constraint Programming and\\xa0Graph Theoretic Algorithms. During the last few years he has worked on several compiler optimization problems targeted towards low-end, power constrained processors. These include formalizing instruction scheduling for clustered architectures, memory hierarchy optimizations and code generation.'\n",
            " 'Internet of Things (IoT), mobile and pervasive computing, geo-distributed fog & cloud computing and Software-defined Networking (SDN) with focus on scalability, quality of service (QoS), fault tolerance and security aspects'\n",
            " '\\xa0visual recognition (object detection, image classification, face recognition, etc.), machine learning and programming'\n",
            " 'Computer Vision, Machine Learning, Pattern Recognition and Image/Video Retrieval.'\n",
            " 'Model Driven Software Engineering, in particular focusing on Model Transformations and Automated Model based Software Testing'\n",
            " 'Management Information Systems & its security, Software Project Management, Human Computer interaction, and Supply Chain Management.'\n",
            " 'Model Driven Architecture (MDA), specifically MDA model transformation for generating Unified Modeling Language (UML) artifacts from legacy system design.'\n",
            " 'Computer Programming, Software Engineering, and Artificial Intelligence'\n",
            " 'Computer Communications and Networks.'\n",
            " 'Traffic Analysis, Performance Evaluation, Theory of Computation and Professional Ethics.'\n",
            " '\\xa0Image Processing (particularly Medical Image processing), Computer Vision, Machine Learning, and Bio Informatics.'\n",
            " 'Data mining, Business Intelligence, and Social Computing.'\n",
            " 'Human Computer Interaction, M-commerce, User Acceptance on IT and Requirement Engineering.'\n",
            " 'Cognitive Radio Networks,Wireless sensor Networks,Internet of Things\\n\\n\\n'\n",
            " 'Next Generation Networks and Security'\n",
            " 'Image Processing, Pattern Recognition, Machine Learning and Data Mining, Computational Intelligence Techniques'\n",
            " 'Text Mining,Information Retrieval, Information Extraction, Social Network Analysis, Machine Learning, Graphical Models, Topic Models'\n",
            " 'Professional Software Development and Analysis, Statistical Software Engineering, Stochastic Process, Sensor Networks, Collaborative Communications and Information Security'\n",
            " 'Network Routing Algorithms'\n",
            " 'Natural Language Processing, Text Mining\\xa0'\n",
            " 'Digital Image Processing And Computer Vision'\n",
            " 'Database Designing and Database, Data Mining, Datawarehousing'\n",
            " 'Digital Image Processing and Computer Vision, Computer Graphics'\n",
            " 'S/W Engineering' 'Computer Networks, OS, Computer Architecture'\n",
            " 'Data Warehousing (ETL)'\n",
            " 'Information Retrieval, Data Mining, Social Network Analysis, Probabilistic Topic Models, Machine Learning, Data Grids'\n",
            " 'Requirement Engineering, Global Software Development, Project Management.'\n",
            " 'Image Processing' 'Data Mining, Bioinformatics'\n",
            " 'Communication & Networks,Databases'\n",
            " 'Indoor Positioning Systems, Mobility management,Handover in Wireless Communication.'\n",
            " 'Databases, Data Warehousing,  Artificial Intelligence,Data structures, Algorithms'\n",
            " 'Wireless Sensor Networks Security, Mobile Application Development, VoIP, Cloud Computing, Next Generation Networks, IMS, VOLTE '\n",
            " 'Human Computer Interaction (HCI), Knowledge Management , Software Project Management, Management Information System (MIS)\\n\\n'\n",
            " 'Language Teaching, Applied linguistics (Language teaching) and Literature.'\n",
            " 'Artificial Intelligence, Programming, algorithms,Data warehousing,Databases'\n",
            " 'Language Definition & Translators, Data Structures, Algorithms & Programming'\n",
            " 'Computer Networks, Communication, Operating System'\n",
            " 'Web Application Development, Databases, Programming'\n",
            " 'Wireless Multihop Networks, Bandwidth Estimation and Reservation,IEEE 802.11 and IEEE 802.11e'\n",
            " 'Software Engineering, Success/failure of ERP implementation, Usability, Requirements Prioritization '\n",
            " 'Machine Learning, Data Mining, Evolutionary Algorithms, Artificial Intelligence '\n",
            " 'Large Scale Schema Matching and Integration, Machine Learning & Pattern Recognition, Social Network Analysis, Information Retrieval Systems (Recommender Systems),Semantic Web, Software Re-engineering, Bioinformatics  '\n",
            " 'Computer Vision, Data Analysis , Pattern Matching, Video Surveillance, Object Tracking and Re-Identification'\n",
            " 'Biomedical Image Processing and Analysis, Pattern Recognition, Machine Learning'\n",
            " 'Multimedia design and system, Human computer interaction, Computer Vision, Artificial Intelligence, Image processing, Computer Graphics'\n",
            " 'Image analysis & Deep learning'\n",
            " 'Data Mining, Quality Management, Project Management'\n",
            " 'Semantic Web, Ontology Engineering, Data Sciences'\n",
            " 'Cybersecurity, Mobile Cloud Computing, and IoT' 'Computer Vision'\n",
            " 'Wireless Networks and Security, 5G and Internet of Things.'\n",
            " 'Social Networks Analysis, Software Testing, Algorithm Design and Development.'\n",
            " 'Software Engineering Web Technologies' 'Software Engineering'\n",
            " 'Wireless Sensors, Cluster & Cloud Computing, Programming.'\n",
            " 'Data Privacy, Artificial Intelligence, Digital Marketing, Web Development'\n",
            " 'Ad hoc Networks, Wireless Sensor Networks, Wireless Personal Area Networks and Wireless Body Area Networks'\n",
            " 'Wave Mechanics/Fluid Mechanics'\n",
            " 'Formal Languages , Compiler Design, Quality in Education'\n",
            " 'Data Science, e-Learning, Software Engineering, Augmented/Virtual Reality'\n",
            " 'Mobile Ad hoc Networks, Wireless Sensor Networks (WSNs), Wireless Body Area Networks, Coverage in WSNs, Software Defined Networking, Massive Machine Type Access in Future Generation Networks, Low Power Wide Area Networks (LPWAN), Adaptive Data Rate in LPWAN, Approximation Algorithms, and NP-hard problems in Wireless Sensor Networks, Wireless Chargeable Sensor Networks'\n",
            " 'Pattern recognition, image analysis,\\xa0machine learning.'\n",
            " 'Digital Image Processing, Document Analysis, Computer Vision'\n",
            " 'Digital Preservation, Database Preservation, Information Retrieval, Information Systems'\n",
            " 'Semantic Web Technology, Smart Technologies, Digital Right Management Systems'\n",
            " 'Learning Systems,Quality in Higher Education'\n",
            " 'Distributed Algorithms, Formal Methods, Model Checking'\n",
            " 'Engineering Education, Human Factors in Engineering, Big Data and Cloud.'\n",
            " 'Data Integration, Image Processing' 'Cryptography,Numerical Computing'\n",
            " 'Distributed Computing, Cloud Computing, Grid Computing, Database Systems.'\n",
            " 'Security in Critical Infrastructures, Privacy, Security in Smart Ecosystems, Application Security, Risk Management, Adaptive Security, Internet of Things(IoT), Big Data Security.'\n",
            " 'speech processing and data mining' 'Data Mining'\n",
            " 'Statistical quality control and quality management, Linear profile methodologies for statistical process control'\n",
            " 'Telecommunication and Networking'\n",
            " 'Image Analysis and Pattern Classification' 'Information Security'\n",
            " 'Non-Newtonian Fluid, Analytic Solutions Homotopy, Analysis Method'\n",
            " 'Text mining, Bi-lingual Social network Analysis, Semantic analysis.'\n",
            " 'Information Systems' 'Online Reputation Management Systems'\n",
            " 'Internet of Things; Cloud Computing; Ad hoc Networks; Wireless Sensor Networks; Optical Networks; Algorithm Design and Optimization;'\n",
            " 'Educational data mining'\n",
            " 'Introduction to EMC/EMI,\\xa0 Document Writing using LATEX '\n",
            " 'Cloud Computing , Artficial Intelligence' 'web ontologies'\n",
            " 'Natural Language Processing, Artificial Intelligence and Robotics.'\n",
            " 'Semantic Computing: Semantic Digital Libraries, Ontology evaluation, Ontology mapping and merging, Semantic Cache Query Processing, Semantic Extraction from Multimedia Objects, Semantic Search Engines, Semantic based Learning Systems, Semantic based Query Refinement for WWW, Deep Web Mining Distributed Computing: Networks (IP and Transport Services), Bandwidth Aggregation for Heterogeneous Networks, Fault Tolerance Cryptography and Cryptanalysis, Algorithms, Bioinformatics '\n",
            " 'Multidatabase Systems Schema Translation, Schema Evolution, Schema Integration, Data Integration, Data Mining'\n",
            " 'Digital Libraries; Web/Text Mining; Semantic Web; Information Visualization'\n",
            " 'Wireless Ad Hoc Networks, development and evaluation of Network Coding Aware and Network Coding Based routing protocols suitable to highly dynamic and delay tolerant networks'\n",
            " 'Parallel and distributed computing. Parallel programming environments for multi-/many-core shared and distributed memory parallel computers. Run-time environments and scheduling mechanisms for parallel machines based on multi-cores. Performance analysis of parallel applications.'\n",
            " 'Routing in Mobile Ad hoc Networks Social Network Analysis Application of Graph Theory'\n",
            " 'Software & System Engineering, Computational Intelligence (Soft Computing), Agents and Multi Agent Systems, Autonomous Systems, Component Based Development'\n",
            " 'Semantic Computing, Digital Libraries, Ontology Engineering'\n",
            " 'Mobile Agents; Semantic Web; RDF Graphs'\n",
            " 'Requirements Engineering, Formal Methods.'\n",
            " 'Parallel Programming, Big Data, Games Bases Learning.'\n",
            " 'Wireless sensor networks particularly MAC layer design.'\n",
            " 'Software Testing, Software Requirements Engineering, Agile Development, Global Software Engineering, Formal Methods'\n",
            " 'Corpus linguistics, statistics, and the application of corpus methods in the study of speech and writing, learner language, collocations, phraseology and vocabulary. I am also interested in corpus design and corpus tools development, Experimental Phonetics and Phonology, Forensic Phonetics, Psycholinguistics, Second Language Acquisition, Implicit and Explicit L2 Knowledge, Prosody, Tone.'\n",
            " 'Machine Learning, Artificial Intelligence, Data Mining, Classification, Image Processing, Automata'\n",
            " 'Machine Learning, Artificial Intelligence, Computer Vision, Data Mining, Classification, Image Processing'\n",
            " 'Digital Image Processing, Pattern Recognition, Machine Learning, and Evolutionary Algorithms'\n",
            " 'Medical Image Processing, Pattern Recognition, Natural Language Processing'\n",
            " 'Design and development of PC controlled educational systems, Nuclear Electronics and Instrumentation'\n",
            " 'Numerical Computing, Parallel/Distributed Computing'\n",
            " 'Artificial Intelligence, Mobile Robots, Multi Robot Systems'\n",
            " 'Pattern Recognition, Machine learning, Bioinformatics, Combining Classifiers, Applications of Artificial Neural Network and Support Vector Machine in Computational Materials Science, Genetic Algorithm and Genetic Programming'\n",
            " 'Computer Networks and Security, Parallel and Grid Computing, Computer Architecture'\n",
            " 'Medical Image Reconstruction, Pattern Recognition, Evolutionary Computation, Digital Subtraction Angiography, Embedded Systems, Computational Metallurgy and Materials Science'\n",
            " 'Modeling and Simulation of Physical Systems, Stochastic Optimization, Evolutionary Computing'\n",
            " 'Cloud Computing, Internet of Things, Information Security, Web Mining, Cognitive Computer Science, Self Organizing Systems'\n",
            " 'Ad-Hoc Networks, Wireless Pervasive Systems, Cooperative Networking, Cooperative Sensing and Inference, Self-organized Networked Systems'\n",
            " 'Establishment of Software Services Infrastructure, Development of an Integrated Set of Information Systems, Development of Internet and Database Application Software, Distant Electronic Classroom Utilizing Low Bandwidth Internet, Data Warehousing, Information Security Management'\n",
            " 'Pose Tracking, Image Registration and Alignment, Visual Surveillance and Navigation, 3D Reconstruction, Virtual and Augmented Reality'\n",
            " 'Automatic lexical acquisition, Computational grammar development, Theoretical linguistics, Parallel corpora development and statistical machine translation'\n",
            " 'High performance computing using GPUs, CMPs; Parallel programming using OpenCL and CUDA; Architectures of GPUs/CMPs'\n",
            " 'Software Design & Development, Cyber Security, Database Security'\n",
            " 'Computational geometry, in particular, straight skeletons and Voronoi diagrams; general-purpose computing on graphics processing units (GPGPU); computer graphics and geometric modeling; algorithms and mathematical proofs; parallel and high-performance computing'\n",
            " 'Machine Learning (Artificial & Computational Intelligence), Digital Signal Processing, Biomedical signal analysis, Biometrics'\n",
            " 'Web Design and Development,eCommerce Applications Development,Wireless and Mobile Computing,Advanced Heterogeneous Networks'\n",
            " 'Computer Networking,Cloud Computing'\n",
            " 'Computational Semiotics,Sentiment Analysis,Evolutionary Computation,Charles Sanders Peirce'\n",
            " 'Real-time Non-intrusive Quality Estimation of VoIP'\n",
            " 'machine learning approaches for data intensive computing'\n",
            " 'human machine interfaces'\n",
            " 'Human-Computer Interaction, sonification, ubiquitous computing, accessibility, and location-based services'\n",
            " 'Big data and IoT' 'Data mining and Big Data Analytics'\n",
            " 'curriculum development, professional ethics; software design architectures; software process modeling and improvement; and software testing and quality assurance.'\n",
            " '\\xa0vision-based 3D motion retrieval and reconstruction, 3D pose estimation, action recognition, machine learning, motion synthesis and analysis etc.\\xa0'\n",
            " 'Design and development of energy efficient routing protocols,Cross layer architectures,Caching and forwarding schemes for cognitive radio ad hoc networks,named data networking based wireless networks'\n",
            " 'Security Issues in Agile Methodologies'\n",
            " 'Recommender Systems Intelligent Information Systems Geographical Information Systems and Remote Sensing Data Warehousing and Data Mining'\n",
            " 'Network Security and Monitoring,Digital Forensics,Real time Visualization,Complex Event Processing.'\n",
            " 'Machine Learning Prediction and Recommendation ,Data Mining ,Mobile Application Development'\n",
            " 'Game Intelligence,Adaptive Price Formulation,Data Mining & Machine Learning'\n",
            " 'Machine Learning & Data mining,Applications of computational intelligence in games,Effective computing'\n",
            " 'Graph Theory,Evolutionary Computing,Data Mining and Machine Learning'\n",
            " 'BigData'\n",
            " 'Artificial Intelligence, Computational Intelligence, Machine Learning, swarm intelligence, evolutionary algorithms, and expert systems.\\xa0'\n",
            " 'Data Analytics' 'Signal Processing and machine learning.'\n",
            " 'Neural Networks'\n",
            " 'Natural Language Processing (Morphological Analysis, Annotated Corpus building, Lexical resources), Secure Communication on Internet (IPSec) esp. Key Management Issues for Single Source Multicast Groups and Routing in Mobile Ad-Hoc Networks (Unicast, multicast), Lock-Free Data Structures and Urdu fonts '\n",
            " 'Nature Inspired computing and I developed a novel Artificial Immune System (AIS) security framework for the Mobile Adhoc Network (MANET) routing protocol BeeAdHoc, based on the foraging principles of honey bees.'\n",
            " 'Physics'\n",
            " 'Computational Intelligence,Multimodal Function Optimization,Data Clustering,Image Segmentation\\n\\n\\n'\n",
            " 'NLP'\n",
            " '\\xa0combinatorics, information theory and signal processing. Specific areas are problem in extremal and probabilistic methods in combinatorics, spectral graph theory, coding for distributed storage, interference channels.'\n",
            " 'MACHINE LEARNING (TEXT/IMAGES) AND COMPUTER VISION , CLOUD Computing, Big Data'\n",
            " '\\xa0epistemological access to higher education, role of ICT in motivating English language learners in ESL classroom at university level, and role of non-verbal communication in teaching-learning process of English.'\n",
            " 'graph theory and combinatory.'\n",
            " 'Reconfigurable Asynchronous Adaptive Processing and hardware realization of complex Image processing and communication algorithms.'\n",
            " 'Statistics' 'Mathematics' 'Telecom'\n",
            " 'Design Science, Human-Computer Interaction, Participatory Design, Interaction Design, Computer Science Education, Novel Pedagogies and Learning Theories.'\n",
            " 'Computer Basics and Electronics, Logic and Design, Low level Programming, Computer Architecture, Database Design and Administration and Networking.'\n",
            " 'Telecom,Networking'\n",
            " 'Distributed & Parallel Computation, Security Aspects, Cloud Computing, Big Data Analysis, Formal Specification & Analysis, Business and Software Process Mining.'\n",
            " 'System designing, development, project management, consultation'\n",
            " 'Big Data | Recommender system in cloud computing'\n",
            " 'Wireless sensor networks,Wireless adhoc networks'\n",
            " 'IoT (Internet of Things),\\xa0 RFID systems for IoT,RF MEMS & Antenna Design,UMTS/LTE, LTE advanced,UMTS/LTE, LTE advanced'\n",
            " 'Mobile Development'\n",
            " 'Operating Systems, Data Structures, Programming Languages'\n",
            " 'Structures, Automata Theory'\n",
            " 'Computer Networks, Topics in Internet Research, Optical Communications, Performance Modeling'\n",
            " 'Computational Modelling, Artificial Intelligence, Data Mining and Machine Learning, Multi-Agent Systems'\n",
            " 'Graph Theory (especially Topological Graph Theory)'\n",
            " 'Topological graph theory'\n",
            " 'Programming Languages and Compilers, Protocols and Algorithms for Wireless and Wired Networks'\n",
            " 'Analysis of Algorithms, Advanced Algorithms, High Performance Computing'\n",
            " 'Computer networks, broadband wireless networking, wireless multimedia communication, network deployment and monitoring.'\n",
            " 'Computer Vision, Image Processing, Machine Learning, and Statistics'\n",
            " 'Data Warehousing, Business Process Management and Academic Social Network'\n",
            " 'Image Processing, Computer Vision, Analysis of Algorithms'\n",
            " 'Computer Vision, Image Analysis, Machine Learning'\n",
            " 'Cloud Computing, Distributed Systems, Machine Learning, Data Mining, Mobile and Web Computing, Scalable Applications and Architectures, Algorithms Analysis, Data Structures, Operating Systems'\n",
            " 'Computational Mathematics, Linear Algebra, Calculus, Probability and Statistics'\n",
            " 'Natural Language Processing, Computational Linguistics, Machine Learning, Linguistics'\n",
            " 'Operating Systems and Systems Programming, Embedded and Real Time Operating Systems'\n",
            " 'Digital Logic and Design, Computer, Operating System, Architecture, Computer Networks'\n",
            " 'Databases, Data Structures, Digital Logic & Design'\n",
            " 'Databases, Information Systems'\n",
            " 'Software Engineering, Software Quality Assurance, Software Project Management'\n",
            " 'Object Oriented Design and Programming, Data Structures, Analysis and Design of Algorithms'\n",
            " 'Databases'\n",
            " 'Theory of Formal Languages and Automata, Design and Implementation of Compilers, Programming Languages'\n",
            " 'Online Algorithms, Robotics and Probabilistic Graphical Models, Enterprise Software Development, Software Engineering'\n",
            " 'Programming (C++/JAVA/.NET), Database Design and Administration, Data Structures, Design and Analysis of Algorithms, Theory of Automata.'\n",
            " 'Operating Systems, Computer Architecture, System Programming'\n",
            " 'Programming Fundamentals, Object-Oriented Programming, Data Structures & Algorithms, Theory of Automata, Discrete Mathematics'\n",
            " 'Graph Theory, Combinatorics, Image and Video Processing, Discrete Mathematics, Theory of Automata and Formal Languages, Multimedia System Design'\n",
            " 'Machine Learning, Image Processing, Computer Vision'\n",
            " 'Computer Programming, Software Engineering, Software Quality Assurance'\n",
            " 'Programming, Data Structures'\n",
            " 'Software Engineering, Enterprise Modeling, Object Oriented Analysis and Design'\n",
            " 'Agent Modeling, Intelligent Systems, AI, OOP, OOAD, Software Engineering, SW Architecture Pattern, Fundamentals of Programming Languages'\n",
            " 'Theoretical Physics, Mathematical Physics, Particle Physics, Astronomy, Electronics, Electrodynamics, Magnetism'\n",
            " 'Data Structures and Algorithms, Discrete Mathematics, Object-Oriented Programming'\n",
            " 'Programming in C/C++/VC++, Computer Organization'\n",
            " 'Parallel and Distributed Computing, Computer Vision, Database Systems, Computer Organization and Assembly Language, Business Process Management and academic social networks, Programming (OOP and DSA)'\n",
            " 'Network Programming'\n",
            " 'Ambient Intelligence, Computational Modeling, Data and Text Mining, Information Retrieval, Social Simulation, Enterprise Application Development, Mobile Computing, Computational Modeling, Artificial Intelligence'\n",
            " 'Human Computer Interaction, Software Engineering'\n",
            " 'Software Engineering, Object Oriented Analysis and Design,Software Design and Architecture.'\n",
            " 'Database systems, Project Management, Computer Networks, Software Quality Assurance, Total Quality Management'\n",
            " 'Computer Networks, Wireless Sensor Networks, Opportunistic Networks, Internet Architecture and Protocols'\n",
            " 'Big Data Analytics, Distributed Computing, Data Mining, Web Engineering, Object Oriented Programming, Software Engineering, Database Management Systems'\n",
            " 'Computer Vision, Pattern Recognition and Machine Learning, Multiple View Geometry, Convex Optimization'\n",
            " 'Data Structures and Algorithms, Computer Vision, High Performance Computing'\n",
            " 'Management Information Systems, Human Resource Management, Total Quality Management, Organizational Behavior, Software Project Management'\n",
            " 'Object Oriented System Design and Implementation, Data Structures and Algorithms, Theory of Automata'\n",
            " 'Artificial Intelligence'\n",
            " '\\xa0Imaging especially in the Data Security Issues'\n",
            " 'AI, Computer Vision and Machine Learning.'\n",
            " 'empirical software engineering and software cost estimation.'\n",
            " 'embedded system design with particular emphasis on the design and modeling of reliable and power-efficient solutions.'\n",
            " 'Evolutionary Algorithms, Bioinformatics, Combinatorial Optimization, Search Heuristics, Multi-objective Optimization, Many-Objective Algorithms, and Machine Learning.\\xa0'\n",
            " '\\xa0Information Retrieval, Machine Leaning, Bioinformatics and Data Sciences.'\n",
            " 'Ensemble Learning (AdaBoost) and its applications.'\n",
            " 'Computer Networks,\\n Distributed Systems\\n Cloud Computing'\n",
            " '\\xa0iterative methods to solve inverse problems, neuroimaging techniques including MRI and fMRI, and brain morphometry and topology.'\n",
            " '\\xa0software defined networking, network measurements, Internet traffic classification, and systems security.'\n",
            " 'Computer Vision, Parallel and Distributed Algorithms, Internet of Things and Information retrieval.'\n",
            " 'Big Data, Recommendation Systems, Data Mining, Distributed Computing and Combinatorial Algorithms.\\xa0'\n",
            " 'Software Engineering\\n Software Quality\\n Software Defects\\n Software Predictions\\n Autonomic Computing'\n",
            " '\\xa0web, cloud and IOT technology'\n",
            " 'application of Information and Communication Technologies for Development (ICT4D) purposes.'\n",
            " 'computer networking and network security.\\xa0'\n",
            " 'Software testing and Interaction design.'\n",
            " 'data modeling, database design, distributed systems, data warehouse construction and data mining.'\n",
            " 'computer vision, image processing, Script processing and machine learning.\\xa0'\n",
            " 'Software Engineering in general and IT project management, agile methods (TDD, XP), and software verification and validation in particular.'\n",
            " 'computer vision, graphics, augmented reality, 3D modeling and robotics.'\n",
            " 'Data Mining, Machine Learning, Text Analytics and Big Data Analytics'\n",
            " 'data mining, and big data analytics.'\n",
            " 'Computer Programming, Applied Programming, and Digital Logic Design'\n",
            " 'Ubiquitous Computing, Operating Systems, Distributed Systems, Mobile Systems, Highspeed Routing Architectures and the impact of IT in developing world countries'\n",
            " 'Internet of Things (IoT), Wireless Sensor and Ad Hoc Networks, Opportunistic Networks, Mobile and Distributed Systems, Network Virtualization and Cloud Computing, Distributed Algorithms, AI techniques applied to Networks, Exploiting On Board Diagnostics (OBD-II) in Electronic Fuel Injection (EFI) Vehicles'\n",
            " 'Data Science, Machine Learning, Data Mining, Text Mining, Descriptive and Predictive Analytics, Social Media Analytics, Sentiment Analysis, Recommender Systems, Constrain Based Learning, Big Data'\n",
            " 'Data Science, Scientific Research Informatics, Scientometrics, Alt-metrics, Information Retrieval, Data Mining, Social Media Analytics, Information Visualisation, Educational Data Mining.'\n",
            " 'Embedded Systems, Real-time and Mixed Criticality Systems, Parallel Computing Systems, Runtime Resource Management, Context-aware Computing, and Multicore/Manycore Scheduling.'\n",
            " 'Artificial Intelligence & Machine Learning, Experimental & Computational Neuroscience, Signal & Image Processing (Audio/Video Processing, Sonar/Bio-Acoustics), Wireless Sensor Networks (Environmental & Oceanographic applications)'\n",
            " 'Analysis of reactive, stochastic, real-time, and hybrid systems. Reduction techniques for probabilistic systems using game theory. Formal software verification, in particular model checking. Formal modeling and analysis of distributed computing. Game theory, Petrinets, process algebra, concurrency theory, mathematical logic and automata theory.'\n",
            " 'Educational Technology Integration at Different Levels, Use of Different Technologies to Improve Student Learning'\n",
            " 'Natural Language Processing, Probabilistic Graphical Models, Linguistics'\n",
            " 'Algorithmic and Discrete Geometry, Combinatorics, Extremal Graph Theory'\n",
            " 'solving theoretical and practical problems entailing Computer Vision and Machine Learning, specifically on the problems related to image co-segmentation, remote sensing, medical imaging and affective computing. Our group works extensively in Deep Learning, not only exploring innovative application of deep learning on existing problems but specially extending its theoretical understanding.'\n",
            " 'investigating multidisciplinary approaches to HCI and computer graphics issues particularly the perception of highly realistic cg humans'\n",
            " 'Speech and Language Technologies, Designing interfaces for the low-literate, Telephone-based Speech Interfaces for Access to Information by Non-literate Users, Speech Recognition.'\n",
            " 'data mining, machine learning, and applied artificial intelligence'\n",
            " 'Information systems security, secure distributed and networking systems, databases, multimedia information systems, semantic Web, Web services, ontology, and software testing.'\n",
            " 'analysis and semi-automated detection of similarity patterns in software'\n",
            " 'developing systems and techniques that improve the performance, scalability and programmability of parallel computing systems'\n",
            " 'computer networks and distributed systems and span cloud computing and datacenters, wireless networks, Internet censorship, and ICT for developing regions (including smart grids).'\n",
            " 'program analysis using static and dynamic techniques in automatic software test generation and parallel and incremental techniques in scaling algorithms for multicore processors and the intersection of these domains'\n",
            " 'development of on-line models for parametric estimation of solid fuel-fired industrial boilers'\n",
            " 'Systems and Networks\\xa0- IoT, CPS, WSN, ICT4D\\xa0'\n",
            " 'object detection and tracking using multimodal sensors'\n",
            " 'short, medium and long term forecasting of energy demand, renewable energy generation forecasting for wind and solar resources, demand side management in agricultural, residential and industrial sectors, energy efficiency, and renewable energy integration in existing building stock'\n",
            " 'assistive technologies\\xa0(mobile apps and VR/AR systems) to enhance the quality of life\\xa0of persons with disabilities (e.g. autism, dyslexia, visual impairment) and older adults, educational technologies for children (child-computer interaction),\\xa0and affective computing'\n",
            " 'social network analysis, mining social influence, machine learning'\n",
            " 'AI based Encryption Techniques and Quantum Computing'\n",
            " 'Computer Networks' 'Wireless Computer Networks'\n",
            " 'Wireless Sensor Networks and Web programming'\n",
            " 'Machine Learning, Data Sciences, Computer Vision & Graphics'\n",
            " 'Web Engineering'\n",
            " 'Software Process Improvement, Databases, Data Warehousing'\n",
            " 'Embedded System, Computer Architecture, Logic designing and Robotics.'\n",
            " 'Data Mining, Schema Extraction, Data Integration' 'Computer Science'\n",
            " 'Software Engineering, Web Development' 'Cognitive Protocol Networks'\n",
            " 'Computer Networks and Web development methodologies.'\n",
            " 'Computer networks' 'Computer Networks, Vehicular Ad-hoc Networks'\n",
            " 'Artificial Intelligence,Software Engineering' 'Web Development'\n",
            " 'Computer Control' 'Educational Quality Management and Databases Design'\n",
            " 'Software Design & Architecture, Algorithms Refinement, Design Patterns & Frameworks, Enterprise Systems, Information Systems Development & Management, Knowledge Management Systems, Technology Management & Consulting, Technopreneurship, Systems Thinking.'\n",
            " 'Software Engineering, Requirement Engineering, Database Modeling, Software Quality Assurance, Reverse Engineering, Formal Methods, Self Adaptive Systems, Cloud Computing, Fault Tolerant Systems'\n",
            " 'Business Processes, Strategic Management, Operations Research, Management Consultant in Strategy Planning, Operations Management, Program Management'\n",
            " 'Finance, Business Management and Accounting' 'Research based teaching'\n",
            " 'Embedded Systems, Artificial Intelligence and Image Processing'\n",
            " 'Computing Sciences' 'Networking' 'Project Management'\n",
            " 'Telecommunication' 'Software Engineering and Programming'\n",
            " 'Mobile Computing' 'Machine Learning, TSP Optimization'\n",
            " 'Distributed System & Networks'\n",
            " 'Software Testing and Quality Assurance\\xa0'\n",
            " 'Computer Vision and Pattern Recognition\\xa0'\n",
            " 'Digital Signal Processing,Speech Recognition and Synthesis systems,Computer Networks.'\n",
            " 'Bioinformatics,Structural biology,Graph theory,Operations Research'\n",
            " \"Pervasive Computing,secure device/service discovery, activity recognition and access control mechanisms using proximity/sensors' data, policy-based systems, context-awareness and adaptation mechanisms,sensor networks, wireless networks (including WiFi, Bluetooth, WiMAX, etc), and solutions to various issues in distributed and pervasive computing systems through the integration of tools and techniques from distinct disciplines/areas. \\xa0\"\n",
            " 'resource management, job scheduling strategies, energy efficiency, and workload characterization for performance optimization of parallel and distributed systems such as cloud computing, and location-based services i.e., map-matching strategy for GPS trajectories'\n",
            " 'computing and information systems domain.'\n",
            " 'Numerical linear algebra,Matrix Computation,Numerical Analysis'\n",
            " '\\xa0High Performance Computing with special emphasis on new and emerging architectures including multicore processors'\n",
            " 'Machine Learning & Combinatorial Optimization Techniques with applications in image / video retrieval, cancer classification, surface inspection, bioinformatics, multi-label classification, and face recognition'\n",
            " 'Network Security and Data Security, Name Data Network or Content Centric Network, Security and Privacy isssues in MANET or Ad hoc computing, Internet of Things, Machine-to-Machine and Device-to-Device Communications, Wireless Communications (4G, 5G, etc. ), Optimization'\n",
            " 'Error Correction Coding, Optimization Wireless Routing, Mathematical analysis of transmission networks, Evolutionary computation, Applied Machine Learning'\n",
            " 'Disaster Management, Information Systems, Geo Informatics, Social Informatics, Urban Planning, Image Processing'\n",
            " 'Elliptic Curve Cryptography, Embedded OS, Quality Assurance & Software Engineering, Open source technology, Databases, Vocational trainings for intellectually challenged\\n'\n",
            " ' Computer Hardware, Computer Architecture, Mass-Storage devices (Winchester, Flash and Solid-State Drives.)'\n",
            " 'Data Communication, Computer Network, Algorithms development, Programming languages and Machine learning.'\n",
            " 'Data Mining, Machine Learning, Brain Computer Interface (BCI), Intelligent Transportation Systems'\n",
            " 'Big Data Security, Deep Learning,Algorithms'\n",
            " 'Software Engineering, Data Mining, Image Processing'\n",
            " 'VANETs, Databases, Data Mining, IoT, Natural Language Processing'\n",
            " 'Software Engineering, Database Systems, Algorithms'\n",
            " 'Temporal and Spatial Database Systems, Artificial Intelligence, Health Information Systems, Software Engineering\\xa0'\n",
            " 'Languages, Software Development, Information Mgmt & Operating Systems\\xa0'\n",
            " 'Languages, Data Mining, Data Modeling\\xa0'\n",
            " 'Soft Computing, Data Mining, Fuzzy Set Theory\\xa0'\n",
            " 'Operating Systems, Networking, Parallel Computing\\xa0'\n",
            " 'Software Project Management, Software Configuration Management'\n",
            " 'Computer Graphics, Image Processing, Discrete Mathematics\\xa0'\n",
            " 'Machine Learning, Robust Speech Recognition, Image Processing.'\n",
            " 'Computer Vision, Image Processing and Computational Linguistics.'\n",
            " 'Software Development Methodologies.' 'Computer Vision.'\n",
            " 'Information Security.' 'Data Mining .' 'Semantics.'\n",
            " 'Wireless Ad-Hoc Routing Protocols and Information Security.'\n",
            " 'Cloud Adoption: A Goal-Oriented Requirements Engineering Approach Research Interests: Requirements Engineering, Risk Management, Cloud Architecture, Software Engineering'\n",
            " 'Educational Data Mining' 'Databases and Software Engineering.'\n",
            " 'Online Information Security in Financial Transactions'\n",
            " 'Artificial Intelligance, Software Engineering, Web Development .'\n",
            " 'Image Processing, Software Engineering.' 'Machine Learning.'\n",
            " 'Scientific Workflows, Scientific (machine generated) Data Management, Ontology based data integration, and Data transformation as well as transportation in scientific applications. Moreover, his interests also include the dataflow and data transformation languages.'\n",
            " 'Embedded Control Systems, Sketch-Based Interfaces and Modeling, Soft Computing, Computer Graphics, and Renewable Energy based Irrigation Systems.'\n",
            " 'Multimedia Data Mining'\n",
            " 'Semantic Web technologies, Online Social Networks, Privacy and Data Protection, Social Application Development, Multi Agent Systems'\n",
            " '\\xa0Distributed Systems, Cloud Computing, Network Design, Security and Management, Algorithms and Data Structures and Theoretical computer science.'\n",
            " 'security and resource management in Wireless Medical Sensor Networks, Wireless Body Area Networks, Wireless Sensor Networks, Virtual Sensor Networks, Mobile Crowd Sensing, Participatory Sensing, Quality of Monitoring for medical and health applications and Quality of Service optimization for audiovisual communications.'\n",
            " 'Theoretical Computer Science, Computer Networks, Computational Intelligence and Network Coding'\n",
            " 'Human Computer Interaction, Usability Engineering, Mobile Interaction \\n'\n",
            " 'Data Mining, Business Intelligence, Big Data Analytics, Digital Image Processing, Digital Watermarking Security, Error Correcting Codes, Spread Spectrum'\n",
            " 'Collaborative Software Process (CSP) Measurements , Mapping data from Object Oriented Databases to RDF based Ontology Interests: Object Oriented Programming Object Oriented Analysis & Design Data Structures & Algorithms'\n",
            " 'Software Engineering and Project Management, Quality Assurance and Requirement Engineering, Information Systems, Electronic Commerce and Security issues.'\n",
            " 'Object Oriented Programming, Web Engineering, Database concepts and Operating Systems. Cloud Computing, Semantic web.'\n",
            " 'Object Oriented Programing, Data Structures and Algorithms, Introduction to Programming, Web Development, Mobile Applications Development and Operating Systems.'\n",
            " 'Reservoir Engineering, Multiphase Flow, Artificial Intelligence.'\n",
            " 'GPU based volume rendering, Biomedical imaging and visualization, Soft body simulations, Physically based animation, Physically based rendering, Cloth simulation, Augmented reality\\xa0'\n",
            " 'Ontology-based Classification and Mind Uploading\\xa0'\n",
            " 'Computational Biology , Big Data Analysis , Computational Social Science '\n",
            " 'Big Data Analytics ,Data Mining , Machine Learning , Human Computer Interaction '\n",
            " 'Data Provenance , E-Commerce , Data WareHouse '\n",
            " ' Bioinformatics , Biometrics , Social Computing '\n",
            " 'Data Mining, Computer Architecture, Design and Analysis of Algorithms\\xa0'\n",
            " 'Intelligent and Multi-Agent Systems,\\nScheduling issues in Distributed Systems\\nSecurity and Management Issues in Next Generation Networks'\n",
            " 'Data & Text Mining, Machine Learning, Research Trends in Artificial Intelligence, Information Retrieval, Computability and Complexity, Graph Theory and Algorithms.'\n",
            " 'Insider threats Detection\\nRisk Assessment & prevention\\nEfficient Video Processing Techniques\\nCloud Computing'\n",
            " 'Internet of Things\\nSmart Sensors & Networks'\n",
            " 'Big Data Analytics, Data Mining, Date warehousing'\n",
            " 'Networking, Telecommunication and Wireless ad-hoc Networks'\n",
            " 'Image Processing, Pattern Recognition, Machine Learning'\n",
            " 'Software Engineering\\nUse of software metrics for improving software processes\\nSocial network analysis'\n",
            " 'Electronics\\nComputer Network'\n",
            " 'Network Security\\nTechnology in Education'\n",
            " 'Software Design\\nSoftware Testing'\n",
            " 'Computer Organization and Architecture\\nIntelligent Systems\\nHuman Computer Interaction\\nComputer Negtworks'\n",
            " 'Human Computer Interaction\\nArtificial Intelligence'\n",
            " 'WBAN (Wireless Body area Network), Wireless Adhoc Network, Wireless Sensor Network'\n",
            " 'Security, Computer Networks, Telecommunication Infrastructure, Wireless ad-hoc Networks, System Administration.'\n",
            " 'Human Computer Interaction\\nUser Experience\\nInteraction Design\\nIntelligent Systems'\n",
            " 'System Architect\\nMachine Learning\\nBig data\\nNetwork Security'\n",
            " 'Ubiquitous Computing, Wireless Networks'\n",
            " 'Reports on  Census of Pakistan  1951,1961,1972,1981 and 1998\\nDemography Analysis of Pakistan\\n Apply  Pearson’s System of frequency Curve in different date set of PDF, PGS with complete programming in R, SAS\\n\\n?'\n",
            " 'Data Science, Predictive Analysis Based Decision Support System.'\n",
            " 'Software Costing and Estimation\\nSoftware Quality\\nBig Data Analytics'\n",
            " 'MPLS on Satellite Communication\\nWearable Body Area Networks\\nNetwork  Security'\n",
            " 'Analog IC designing\\nSemicinductor devices'\n",
            " 'Artificial Intelligence\\nSoftware Engineering'\n",
            " 'Theoretical Computer Science\\nAlgorithm & Complexities\\n\\n '\n",
            " 'Information System Audit\\nInformation Security\\nIT Governance\\nIT Risk Management\\nTelecommunication and Networking\\nGlobal IT Standards and Frameworks\\n\\n '\n",
            " 'Machine Learning\\nIntelligent Systems\\nTheoretical Computer Science\\nAlgorithm & Complexities\\nEnergy Systems\\nRobotics\\nRenewable Energy.'\n",
            " 'Data & Text Mining\\nMachine Learning\\nInformation Retrieval'\n",
            " 'Big Data Analysis\\nNoSQL Databases\\nGrid Computing\\nData Mining'\n",
            " 'Grid Computing\\nData Mining' '\\xa0Energy Systems'\n",
            " 'Modelling and simulation of grid-connected photovoltaic system, efficient battery charging devices for PV system, intelligent control, non-linear systems and exploitation of evolutionary algorithms such as genetic algorithm (GA), particle swarm optimization (PSO) and differential evolution (DE) in engineering applications.'\n",
            " 'Building energy efficiency, data fusion, uncertainty analysis and robust control.'\n",
            " 'Artificial Intelligence, Human Computer Interaction, Machine Learning, and Data Mining.'\n",
            " 'Human Computer Interactions,Semantic Web,Ubiquitous Computing'\n",
            " 'Text Summarization, Machine Learning, Information Retrieval, Influence Mining, Affective Computing, Psychology and Computational Linguistics.'\n",
            " 'Mobile Computing, Human Computer Interaction and Mobile Game Development.'\n",
            " 'Telemedicine, Telematics, Optical-Laser Communication System, Satellite Communication, Micro wave [LOS] Communication System etc.'\n",
            " 'Digital processing and management tools for 2D and 3D shape repositories; geometric modeling; data structures; advanced programming; algorithm analysis; digital computer logic; computer architecture; linear algebra; discrete mathematics.'\n",
            " 'Social network analysis,Land use change,Climate change adaptation,Infectious disease transmission,Social anthropology'\n",
            " 'Artificial Intelligence and Planning Graphs'\n",
            " 'Robotics, Machine Learning, Probabilistic Reasoning and Computational Intelligence'\n",
            " 'design and analysis of efficient algorithms, graph theory, discrete and combinatorial optimization, and machine learning/data mining.'\n",
            " 'Computer Architecture, Compiler Optimizations and Natural Languages'\n",
            " 'RDBMS, Distributed Systems, Multi-Agent System (MAS), Data Minning and Data Minning Techniques.'\n",
            " 'Information Retrieval/Processing,Web Usability Engineering,Software Quality Assurance'\n",
            " 'Research interests include the security aspects of multimedia (Audio and Video), Compression, Encryption, Steganography, Secure transmission and the Key management schemes for standard and scalable video.'\n",
            " 'Natural Language Processing, Automated Software Engineering, Image Processing, Machine Translation'\n",
            " 'Formal software engineering, Software architecture, Multi-agent robotics'\n",
            " ' Programming, Networking'\n",
            " 'Wireless sensor networks. Internet of things(IoT), Scheduling patterns of sensor messages, Node failures management, QoS aware message scheduling'\n",
            " 'Machine Learning/Data Science/Data Mining/Statistical Pattern Analysis in general but with a particular interest in probabilistic approaches of high-dimensional data projection approaches and their use in answering questions related to biological problems related to protein analytics, patient specific analytics etc.'\n",
            " 'Data Mining and Network Programming' 'Wireless Sensor Network'\n",
            " 'Data Mining with emphasis of big data analytics, Machine Learning, Applications of Machine learning and data mining, Decision support system, Applications of machine learning in health sciences'\n",
            " 'Computer Networks (Information Network Security (Access Control/Authorization), Cloud Computing Security)'\n",
            " 'Image classification, Image retrieval, Content-Based Image Retrieval, Machine learning, Computer vision'\n",
            " 'Wireless Communication and Networks'\n",
            " 'E-commerce, usability testing, User interface design, User acceptance testing, User experience design, Databases, Requirement engineering & analysis, Human-computer-interaction.'\n",
            " 'Data Mining (Classification, Prediction, Online Social Networks, Recommender Systems and other similar topics), Information Security (Privacy preservation, Authentication and other similar topics).'\n",
            " 'Geographical Information System, Advanced theory of Computation, Big Data Analytics'\n",
            " 'Software Engineering, Model-Based Software Engineering, Model-Based Testing, Software Architecture and Design, Software Process Improvement, Formal Methods, Model Checking, Software Quality Assurance, Software Testing, Programming Techniques, Parallel Programming, Mobile Computing, Autimated Testing'\n",
            " 'Computer Architecture, Operating System, Computer Networks'\n",
            " 'Research Paper Recommender Systems (Co-Citation & Bibliographic Analysis, Content and Metadata based Recommendation), Information Retrieval in Digital Libraries (Rule based information extraction from PDF sources)'\n",
            " 'Wireless Sensor Networks (WSN), Wireless Body Area Networks (WBAN), Internet of Things (IoT), Energy Harvesting (EH)'\n",
            " 'Wireless Networks, Cognitive Radio Networks.'\n",
            " 'Network Techonologies, Information Technology' 'Programming, Networks'\n",
            " 'NGS Data (Assembly, Annotation, Metabolic Pathways Analysis), Computational Biology.'\n",
            " 'Software engineering, Project Management, Programming, Management Information System, Geographic Information Systems, Information System Control and audit, DBMS'\n",
            " 'using Geospatial technologies to strengthen and integrate health systems'\n",
            " 'His core expertise are in the field of machine learning and his focused area of research is “Text Classification”.'\n",
            " 'Trusted Computing along with Agent Oriented Technologies, and Machine Learning along with Data Mining'\n",
            " 'Computational Intelligence and Artificial Neural Network'\n",
            " 'Human Acceptance of Autonomous Social Media Agent'\n",
            " 'Computer Engineering'\n",
            " 'Enterprise Modeling, Software Engineering, Information Retrieval, Information and Knowledge Modeling and Information Logistics'\n",
            " 'Web Engineering, Web Semantics, Web 2.0, Lifelogging, Smartphones, Information Overload, Technology for People with Special Needs'\n",
            " 'Database Security (Fine Grained Security Techniques, K-Anonymity, Digital Watermarking, Data Encryption), Data Warehousing (Data Quality Techniques, Data De-duplication), Data Mining, Big Data Analytics'\n",
            " 'Sentiment Analysis, Text Simplification, Plagiarism Detection, Automatic paraphrasing'\n",
            " 'Networks, Mobile Adhoc networks, Wireless sensor Networks, Distrinuted systems, Differential services, Routing Algorithms, Internet Protocol IPv6'\n",
            " 'Agile Software Development, Software Quality, Empirical Research in Software Engineering'\n",
            " 'Concurrency and Parallelism Operating System Kernels Programming Languages Computer Architecture Internet of Things'\n",
            " 'Human Computer Interaction, Technology Enhanced Learning, Learning Analytics, Persuasive Technologies, UX Design'\n",
            " 'Middleware, Sensor networks, Embedded systems, Pervasive computing ,Wireless communications.'\n",
            " 'Intelligent Transport System, Security, Privacy, Formal Modelling Delay Tolerant Networking, multicasting'\n",
            " '60-GHz networks, resource allocation in HetNets, Capacity analysis in wireless networks'\n",
            " 'Artificial Intelligence, Machine Learning, Neural Networks, Algorithms'\n",
            " 'Network Security' 'Artificial Intelligence, Natural Language Processing'\n",
            " 'Artificial Intelligence-Artificial Neural Networks Artificial Intelligence-Particle Swarm Optimization'\n",
            " 'Datamining'\n",
            " 'Blockchain and Cryptocurrencies, Graph Theory and Social Networks, Combinatorial Optimization, Algorithm Engineering, Game Theory, Algorithmic Trading'\n",
            " 'Numerical Solution of initial and initial Boundary Value Problems.'\n",
            " 'Biostatistics: Statistical Genetics and Bioinformatics, Linear and Mixed Linear Models, Experimental Designs'\n",
            " 'Applied Statistics and Biostatistics' 'BioStatistics'\n",
            " 'Bayesian Statistics' 'fluid dynamics'\n",
            " 'Statistics, Human Resources management'\n",
            " 'Mobile Ad Hoc Networks (MANETs)'\n",
            " 'Machine Learning in Security and Privacy'\n",
            " 'WIRELESS SENSOR NETWORK\\xa0\\xa0'\n",
            " 'Software Modularization, Software Architecture Recovery, Bugs Prioritization, Software Quality Metrics, Clustering, Classification, Digital Forensics (Files recovery)  '\n",
            " 'INFORMATIONAL AND BUSINESS SUPPORT SYSTEM\\xa0\\xa0'\n",
            " 'SOFTWARE ENGINEERING\\xa0\\xa0' 'EMBEDDED SYSTEM ENGINEERING\\xa0\\xa0'\n",
            " '\\xa0INFORMATION TECHNOLOGY\\xa0\\xa0' 'Information Technology/Finance\\xa0'\n",
            " 'COMPUTER SCIENCE\\xa0\\xa0' 'COMPUTER SYSTEM ENGINEERING\\xa0\\xa0'\n",
            " 'Electronic System Engineering / Optical Communication Systems'\n",
            " 'System Engineering' 'Communication & Electronics' 'Electronics Design'\n",
            " 'Pattern Recognition,Non-destructive testing, Biomedical engineering, Chemometrics, Image/signal processing; Knowledge Based & Decision Systems'\n",
            " 'Electrical Impedance Tomography, Inverse algorithms, evolutionary algorithms (EAs), Robotic Vision and Bioinformatics'\n",
            " 'Machine Learning, Big Data Anaysis, Data Mining, Artificial Intelligence, Semantic Analysis'\n",
            " 'Digital Multimedia Systems, Video Compression and Communication, Video Transcoding, Content Adaptation, Pervasive Media delivery'\n",
            " 'Medical Image Processing and Analysis, Digital Signal Processing, Numerical Methods'\n",
            " 'Pruning and Quantizing CNN, GPGPU,']\n",
            "-------------------------\n",
            "Column   Other Information   uniquevalue  are : 51\n",
            "[nan 'PhD in progress'\n",
            " '2 year post doctorate at Telecom Bretagne (Rennes Campus), IRISA, France in 2011/2012'\n",
            " 'MS in progress' 'PhD in progress from IIU'\n",
            " 'PhD in progress from Capital University of Science & Technology'\n",
            " 'PhD in progress from  Quaid-e-Azam University, Islamabad \\n'\n",
            " 'PhD in progress from COMSATS' 'PhD in progress from Bahria University'\n",
            " 'MS in progress from UET,Taxila' 'MS in progress from Bahria University'\n",
            " 'MS in progress from National University of Sciences and Technology'\n",
            " 'PhD in progress from Abasyn University,Pakistan\\n'\n",
            " 'PhD in progress from Shaheed Zulfikar Ali Bhutto Institute of Science and Technology'\n",
            " 'MS in progress from IQRA' 'MS in progress from UAAR'\n",
            " 'PhD in progress from ISRA' 'MSCS in progress from UAAR'\n",
            " 'MSCS in progress UAAR' 'MS in progress from FAST'\n",
            " 'MS in progress from FAST Peshawar' 'PhD in progress from UCP'\n",
            " 'PhD in progress from UMT' 'PhD in progress from NCBA&E'\n",
            " 'Phd in progress' 'M.Phil in progress' 'PhD in progress from UET'\n",
            " 'MS in progress from College of Electrical and Mechanical Engineering – National University of Sciences and Technology, Islamabad'\n",
            " 'MS in progress from Leads University,Lahore'\n",
            " 'PhD in progress from ISRA University' 'MS in progress from QUEST'\n",
            " 'PhD in progress from QUEST'\n",
            " 'MS in progress from Sindh University Jamshoro'\n",
            " 'MS in progress from Tondo-Jam University'\n",
            " 'Phil leading to Ph.D. (Course Work 4 CGPA) from University of Sindh'\n",
            " 'PhD candidate'\n",
            " 'PhD in progress from Institute of Business Administration,Karachi'\n",
            " 'PhD in progress from MAJU,Karachi,Pakistan'\n",
            " 'PhD in progress from PAK-KIEFT' 'PhD in progress from NED' 'Visiting'\n",
            " 'MSSE in progress from PAK-KIEFT' 'MS in progress from MAJU'\n",
            " 'MS in progress from PAK-KIET'\n",
            " 'PhD in progress from  Federal Urdu University of Arts, Science & Technology'\n",
            " 'HEC Approved Supervisor' 'On Study Leave' 'On study leave'\n",
            " 'Remained at the Chancellor’s list by achieving 4.0 CGPA during the MS Computer Science Program at Colorado Technical University, USA'\n",
            " 'Currently Member of Board of  Studies of Kohat University and Shaheed Benazir Bhutto  University'\n",
            " 'MS will complete in 2018' 'HEC approved PhD Supervisor']\n",
            "-------------------------\n"
          ]
        }
      ]
    },
    {
      "cell_type": "markdown",
      "source": [
        "# **Part (A)**\n",
        "\n",
        "Here, we will be working on \"**Department**\" where we created two categories"
      ],
      "metadata": {
        "id": "c678sruWxTor"
      }
    },
    {
      "cell_type": "code",
      "source": [
        "# Initial unique values\n",
        "professors[\"Department\"].nunique()"
      ],
      "metadata": {
        "colab": {
          "base_uri": "https://localhost:8080/"
        },
        "id": "4UgN5yfeRtuq",
        "outputId": "ecf8c5b7-9a4b-4aed-f7e5-618b0e907cb7"
      },
      "execution_count": null,
      "outputs": [
        {
          "output_type": "execute_result",
          "data": {
            "text/plain": [
              "17"
            ]
          },
          "metadata": {},
          "execution_count": 4
        }
      ]
    },
    {
      "cell_type": "code",
      "source": [
        "# get all the unique values in the 'Department' column\n",
        "professors['Department']=professors['Department'].str.lower()\n",
        "departments = professors['Department'].unique()\n",
        "\n",
        "# sort them alphabetically and then take a closer look\n",
        "departments.sort()\n",
        "departments"
      ],
      "metadata": {
        "colab": {
          "base_uri": "https://localhost:8080/"
        },
        "id": "T9NdDjSJKX_x",
        "outputId": "c4d39905-418a-47ef-cbc7-52d50e48f262"
      },
      "execution_count": null,
      "outputs": [
        {
          "output_type": "execute_result",
          "data": {
            "text/plain": [
              "array(['computer and information sciences', 'computer engineering',\n",
              "       'computer science', 'computer science & it',\n",
              "       'computer science and engineering', 'computer science and it',\n",
              "       'computer science and software engineering', 'computer sciences',\n",
              "       'computing', 'computing & information sciences', 'cs & it',\n",
              "       'engineering, science & technology',\n",
              "       'faculty of computing & engineering', 'information technology',\n",
              "       'institute of mathematics & computer science',\n",
              "       'school of information and technology', 'software engineering'],\n",
              "      dtype=object)"
            ]
          },
          "metadata": {},
          "execution_count": 5
        }
      ]
    },
    {
      "cell_type": "markdown",
      "source": [
        "**Category 1) Computer Science:**\n",
        "\n",
        "'Computer Science & IT'\n",
        "'Computer Science'\n",
        "'Computer Science and Software Engineering'\n",
        "'Computer Sciences'\n",
        "'Computer Science and Engineering'"
      ],
      "metadata": {
        "id": "AHFUBKKhvhsb"
      }
    },
    {
      "cell_type": "code",
      "source": [
        "matchesdep = fuzzywuzzy.process.extract(\"Computer Science\", departments, limit=6)\n",
        "\n",
        "# take a look at them\n",
        "matchesdep"
      ],
      "metadata": {
        "colab": {
          "base_uri": "https://localhost:8080/"
        },
        "id": "P0ZBZo4iHv23",
        "outputId": "2c3fef12-c7a9-44b8-fde5-73be58e3897e"
      },
      "execution_count": null,
      "outputs": [
        {
          "output_type": "execute_result",
          "data": {
            "text/plain": [
              "[('computer science', 100),\n",
              " ('computer sciences', 97),\n",
              " ('computer science & it', 95),\n",
              " ('computer science and it', 95),\n",
              " ('computer science and engineering', 90),\n",
              " ('computer science and software engineering', 90)]"
            ]
          },
          "metadata": {},
          "execution_count": 6
        }
      ]
    },
    {
      "cell_type": "markdown",
      "source": [
        "**Category 2) Information:**\n",
        "\n",
        "'Information Technology'\n",
        "'School of Information and Technology'\n",
        "'Computing & Information Sciences' 'computer and information sciences'"
      ],
      "metadata": {
        "id": "WmtCiFUVv2lx"
      }
    },
    {
      "cell_type": "code",
      "source": [
        "matchesdep = fuzzywuzzy.process.extract(\"Information\", departments, limit=6)\n",
        "\n",
        "# take a look at them\n",
        "matchesdep"
      ],
      "metadata": {
        "colab": {
          "base_uri": "https://localhost:8080/"
        },
        "id": "SBI1K74_v--E",
        "outputId": "105f99e2-cf08-4cc0-fe97-a2e2d1b3aab2"
      },
      "execution_count": null,
      "outputs": [
        {
          "output_type": "execute_result",
          "data": {
            "text/plain": [
              "[('computer and information sciences', 90),\n",
              " ('computing & information sciences', 90),\n",
              " ('information technology', 90),\n",
              " ('school of information and technology', 90),\n",
              " ('computer engineering', 48),\n",
              " ('computer science and engineering', 48)]"
            ]
          },
          "metadata": {},
          "execution_count": 7
        }
      ]
    },
    {
      "cell_type": "code",
      "source": [
        "# function to replace rows in the provided column of the provided dataframe\n",
        "# that match the provided string above the provided ratio with the provided string\n",
        "def replace_matches_in_column(df, column, string_to_match, min_match = 95):\n",
        "    # get a list of unique strings\n",
        "    strings = df[column].unique()\n",
        "\n",
        "    # get the top 10 closest matches to our input string\n",
        "    matches = fuzzywuzzy.process.extract(string_to_match, strings,\n",
        "                                         limit=5)\n",
        "\n",
        "    # only get matches with a ratio > 90\n",
        "    close_matches = [matches[0] for matches in matches if matches[1] >= min_match]\n",
        "\n",
        "    # get the rows of all the close matches in our dataframe\n",
        "    rows_with_matches = df[column].isin(close_matches)\n",
        "\n",
        "    # replace all rows with close matches with the input matches\n",
        "    df.loc[rows_with_matches, column] = string_to_match\n",
        "\n",
        "    # let us know the function's done\n",
        "    print(\"All done!\")"
      ],
      "metadata": {
        "id": "Fcgw_xzmHv5s"
      },
      "execution_count": null,
      "outputs": []
    },
    {
      "cell_type": "code",
      "source": [
        "# Computer Science\n",
        "replace_matches_in_column(df=professors, column='Department', string_to_match=\"Computer Science\",min_match = 90)"
      ],
      "metadata": {
        "colab": {
          "base_uri": "https://localhost:8080/"
        },
        "id": "7TK4-b4KHv8V",
        "outputId": "b0c0bc54-0168-4679-cbe5-224ff750785b"
      },
      "execution_count": null,
      "outputs": [
        {
          "output_type": "stream",
          "name": "stdout",
          "text": [
            "All done!\n"
          ]
        }
      ]
    },
    {
      "cell_type": "code",
      "source": [
        "# Information\n",
        "replace_matches_in_column(df=professors, column='Department', string_to_match=\"Information\",min_match = 90)"
      ],
      "metadata": {
        "colab": {
          "base_uri": "https://localhost:8080/"
        },
        "id": "XgC1SP4Dw-zY",
        "outputId": "a7cd430b-01a1-4ae4-ebc7-1133c0628bf0"
      },
      "execution_count": null,
      "outputs": [
        {
          "output_type": "stream",
          "name": "stdout",
          "text": [
            "All done!\n"
          ]
        }
      ]
    },
    {
      "cell_type": "code",
      "source": [
        "# After replacing unique values\n",
        "professors[\"Department\"].nunique()"
      ],
      "metadata": {
        "colab": {
          "base_uri": "https://localhost:8080/"
        },
        "id": "5xPPnATOxOXk",
        "outputId": "4d94e982-2336-4f51-d204-2ffdc20e0aca"
      },
      "execution_count": null,
      "outputs": [
        {
          "output_type": "execute_result",
          "data": {
            "text/plain": [
              "10"
            ]
          },
          "metadata": {},
          "execution_count": 11
        }
      ]
    },
    {
      "cell_type": "markdown",
      "source": [
        "# **Part (B)**\n",
        "\n",
        "Dealing with Univeristy column. Here, we will replace ***\"university, city\"*** with ***\"university\"***"
      ],
      "metadata": {
        "id": "7s-bLZVrn4bj"
      }
    },
    {
      "cell_type": "code",
      "source": [
        "# Initial unique values\n",
        "professors[\"University Currently Teaching\"].nunique()"
      ],
      "metadata": {
        "colab": {
          "base_uri": "https://localhost:8080/"
        },
        "id": "yzoFNxsiQiyh",
        "outputId": "6e00f631-e481-4376-cdc2-aa1e76a28256"
      },
      "execution_count": null,
      "outputs": [
        {
          "output_type": "execute_result",
          "data": {
            "text/plain": [
              "63"
            ]
          },
          "metadata": {},
          "execution_count": 12
        }
      ]
    },
    {
      "cell_type": "code",
      "source": [
        "professors['University Currently Teaching']=professors['University Currently Teaching'].str.lower()\n",
        "university = professors['University Currently Teaching'].unique()\n",
        "\n",
        "# sort them alphabetically and then take a closer look\n",
        "university.sort()\n",
        "university"
      ],
      "metadata": {
        "colab": {
          "base_uri": "https://localhost:8080/"
        },
        "id": "jPUrMNSITZTu",
        "outputId": "d71091d9-1e08-4bbf-d4a9-b8bbda23ca17"
      },
      "execution_count": null,
      "outputs": [
        {
          "output_type": "execute_result",
          "data": {
            "text/plain": [
              "array(['abasyn university', 'air university',\n",
              "       'bahria university,islamabad',\n",
              "       'barani institute of information and technology',\n",
              "       'beaconhouse national university',\n",
              "       'capital university of science and technology', 'city university',\n",
              "       'comsats, islamabad campus', 'dha suffa university',\n",
              "       'fast(faisalabad)', 'fast(karachi)', 'fast(lahore)',\n",
              "       'fast,peshawar', 'fast-nu(islamabad)',\n",
              "       'fatima jinnah women university', 'ghulam ishaq khan institute',\n",
              "       'gift university', 'government college university faisalabad',\n",
              "       'habib university', 'information technology university',\n",
              "       'institute of business administration, karachi\\xa0',\n",
              "       'institute of business administration,sukkur',\n",
              "       'international islamic university,islamabad',\n",
              "       'islamia university bhawalpur', 'isra university',\n",
              "       'jinnah university for women', 'lahore garrison university',\n",
              "       'lahore university of management sciences',\n",
              "       'minhaj university lahore', 'mohammad ali jinnah university',\n",
              "       'naml-mianwali', 'national textile university,faisalabad',\n",
              "       'national university of modern languages',\n",
              "       'national university of sciences and technology', 'ned,uet',\n",
              "       'nfc institute of engineering and fertilizer research',\n",
              "       'paf-karachi institute of economics and technology',\n",
              "       'pakistan institute of engineering and applied sciences',\n",
              "       'punjab university college of information and technology',\n",
              "       'punjab university,gujranwala campus',\n",
              "       'quaid-e-awam university of engineering, science & technology,nawabshah\\n',\n",
              "       'riphah international', 'riphah university,faisalabad',\n",
              "       \"sardar bahadur khan women's university\",\n",
              "       'shah abdul latif university, khairpur',\n",
              "       'shaheed benazir bhutto university,shaheed benazirabad\\n',\n",
              "       'shaheed zulfikar ali bhutto institute of science and technology',\n",
              "       'sir syed university of engineering and technology',\n",
              "       'university of agriculture,peshawar', 'university of balochistan',\n",
              "       'university of central punjab', 'university of chakwal',\n",
              "       'university of engineering and technology,peshawar',\n",
              "       'university of gujrat', 'university of karachi',\n",
              "       'university of lahore-pakpattan',\n",
              "       'university of management and technology',\n",
              "       'university of peshawar', 'university of sahiwal',\n",
              "       'university of sargodha,mandi bahauddin campus',\n",
              "       'university of sindh', 'university of turbat',\n",
              "       'virtual university'], dtype=object)"
            ]
          },
          "metadata": {},
          "execution_count": 13
        }
      ]
    },
    {
      "cell_type": "code",
      "source": [
        "matchesdep = fuzzywuzzy.process.extract(\"university of agriculture\", university, limit=6)\n",
        "\n",
        "# take a look at them\n",
        "matchesdep"
      ],
      "metadata": {
        "colab": {
          "base_uri": "https://localhost:8080/"
        },
        "id": "2OyXpUN6TZWV",
        "outputId": "9a47d3eb-e778-45d4-cf3a-dd6ae04df335"
      },
      "execution_count": null,
      "outputs": [
        {
          "output_type": "execute_result",
          "data": {
            "text/plain": [
              "[('university of agriculture,peshawar', 95),\n",
              " ('air university', 86),\n",
              " ('barani institute of information and technology', 86),\n",
              " ('capital university of science and technology', 86),\n",
              " ('city university', 86),\n",
              " ('gift university', 86)]"
            ]
          },
          "metadata": {},
          "execution_count": 14
        }
      ]
    },
    {
      "cell_type": "code",
      "source": [
        "# university of agriculture,peshawar replaced by \"university of agriculture\"\n",
        "replace_matches_in_column(df=professors, column='University Currently Teaching', string_to_match=\"university of agriculture\",min_match = 95)"
      ],
      "metadata": {
        "colab": {
          "base_uri": "https://localhost:8080/"
        },
        "id": "tj7R1hNHpXC0",
        "outputId": "b6261e56-6e37-45e8-9d97-de8963491603"
      },
      "execution_count": null,
      "outputs": [
        {
          "output_type": "stream",
          "name": "stdout",
          "text": [
            "All done!\n"
          ]
        }
      ]
    },
    {
      "cell_type": "code",
      "source": [
        "# 'bahria university,islamabad'  replaced by \"bahria university\"\n",
        "replace_matches_in_column(df=professors, column='University Currently Teaching', string_to_match=\"bahria university\",min_match = 90)"
      ],
      "metadata": {
        "colab": {
          "base_uri": "https://localhost:8080/"
        },
        "id": "2Z5RPeb_eNrn",
        "outputId": "2ce7d151-d4e1-44ab-9e18-9ce85d06b7ce"
      },
      "execution_count": null,
      "outputs": [
        {
          "output_type": "stream",
          "name": "stdout",
          "text": [
            "All done!\n"
          ]
        }
      ]
    },
    {
      "cell_type": "code",
      "source": [
        "# 'comsats, islamabad campus'  replaced by \"comsats\"\n",
        "replace_matches_in_column(df=professors, column='University Currently Teaching', string_to_match=\"comsats\",min_match = 90)"
      ],
      "metadata": {
        "colab": {
          "base_uri": "https://localhost:8080/"
        },
        "id": "KLvW8wZMfY0-",
        "outputId": "da7d7c46-ba35-4c85-9bff-41fb30e6b8cb"
      },
      "execution_count": null,
      "outputs": [
        {
          "output_type": "stream",
          "name": "stdout",
          "text": [
            "All done!\n"
          ]
        }
      ]
    },
    {
      "cell_type": "code",
      "source": [
        "# fast(faisalabad), fast(karachi). fast(lahore), fast,peshawar, fast-nu(islamabad) replaced by \"fast\"\n",
        "replace_matches_in_column(df=professors, column='University Currently Teaching', string_to_match=\"fast\",min_match = 90)"
      ],
      "metadata": {
        "colab": {
          "base_uri": "https://localhost:8080/"
        },
        "id": "Xgy9Md_qfY8D",
        "outputId": "b1258141-a4b8-4652-fe32-0b07da792f42"
      },
      "execution_count": null,
      "outputs": [
        {
          "output_type": "stream",
          "name": "stdout",
          "text": [
            "All done!\n"
          ]
        }
      ]
    },
    {
      "cell_type": "code",
      "source": [
        "# 'institute of business administration, karachi & sukkur'  replaced by \"institute of business administration\"\n",
        "replace_matches_in_column(df=professors, column='University Currently Teaching', string_to_match=\"institute of business administration\",min_match = 95)"
      ],
      "metadata": {
        "colab": {
          "base_uri": "https://localhost:8080/"
        },
        "id": "GMTMkW7JgXPE",
        "outputId": "cfdc5681-f8cd-4d55-e1d2-4e70c992e2eb"
      },
      "execution_count": null,
      "outputs": [
        {
          "output_type": "stream",
          "name": "stdout",
          "text": [
            "All done!\n"
          ]
        }
      ]
    },
    {
      "cell_type": "code",
      "source": [
        "# punjab university college of information and technology and punjab university,gujranwala campus replaced by \"punjab university\"\n",
        "replace_matches_in_column(df=professors, column='University Currently Teaching', string_to_match=\"punjab university\",min_match = 90)"
      ],
      "metadata": {
        "colab": {
          "base_uri": "https://localhost:8080/"
        },
        "id": "LRJr2DrLg29J",
        "outputId": "63a98846-40ba-4790-90af-7cf59e7e1066"
      },
      "execution_count": null,
      "outputs": [
        {
          "output_type": "stream",
          "name": "stdout",
          "text": [
            "All done!\n"
          ]
        }
      ]
    },
    {
      "cell_type": "code",
      "source": [
        "# riphah international, riphah university,faisalabad, replaced by \"riphah\"\n",
        "replace_matches_in_column(df=professors, column='University Currently Teaching', string_to_match=\"riphah\",min_match = 90)"
      ],
      "metadata": {
        "colab": {
          "base_uri": "https://localhost:8080/"
        },
        "id": "YV-qWvWhhZ6p",
        "outputId": "3138152e-78ea-471a-ae08-805550447443"
      },
      "execution_count": null,
      "outputs": [
        {
          "output_type": "stream",
          "name": "stdout",
          "text": [
            "All done!\n"
          ]
        }
      ]
    },
    {
      "cell_type": "code",
      "source": [
        "# university of sargodha,mandi bahauddin campus replaced by \"university of sargodha\"\n",
        "replace_matches_in_column(df=professors, column='University Currently Teaching', string_to_match=\"university of sargodha\",min_match = 90)"
      ],
      "metadata": {
        "colab": {
          "base_uri": "https://localhost:8080/"
        },
        "id": "Qabkj2Fdhr3B",
        "outputId": "3dd1a498-8e03-430f-9171-3a367e314e38"
      },
      "execution_count": null,
      "outputs": [
        {
          "output_type": "stream",
          "name": "stdout",
          "text": [
            "All done!\n"
          ]
        }
      ]
    },
    {
      "cell_type": "code",
      "source": [
        "# university of lahore-pakpattan replaced by \"university of lahore\"\n",
        "replace_matches_in_column(df=professors, column='University Currently Teaching', string_to_match=\"university of lahore\",min_match = 90)"
      ],
      "metadata": {
        "colab": {
          "base_uri": "https://localhost:8080/"
        },
        "id": "ARFh_thwh5Cx",
        "outputId": "8437ea3c-4df8-4c4a-ff3c-314258332dc1"
      },
      "execution_count": null,
      "outputs": [
        {
          "output_type": "stream",
          "name": "stdout",
          "text": [
            "All done!\n"
          ]
        }
      ]
    },
    {
      "cell_type": "code",
      "source": [
        "# quaid-e-awam university of engineering, science & technology,nawabshah\\n replaced by \"quaid-e-awam university of engineering, science & technology\"\n",
        "replace_matches_in_column(df=professors, column='University Currently Teaching', string_to_match=\"quaid-e-awam university of engineering, science & technology\",min_match = 95)"
      ],
      "metadata": {
        "colab": {
          "base_uri": "https://localhost:8080/"
        },
        "id": "zdNAIftMiQTz",
        "outputId": "7412b20d-1678-429e-f61e-1aee151c4d10"
      },
      "execution_count": null,
      "outputs": [
        {
          "output_type": "stream",
          "name": "stdout",
          "text": [
            "All done!\n"
          ]
        }
      ]
    },
    {
      "cell_type": "code",
      "source": [
        "# \"naml-mianwali\" replaced by \"naml\"\n",
        "replace_matches_in_column(df=professors, column='University Currently Teaching', string_to_match=\"naml\",min_match = 76)"
      ],
      "metadata": {
        "colab": {
          "base_uri": "https://localhost:8080/"
        },
        "id": "1GEVIPj5jZ5y",
        "outputId": "578b457e-2e21-4d75-f76a-85eac38eb730"
      },
      "execution_count": null,
      "outputs": [
        {
          "output_type": "stream",
          "name": "stdout",
          "text": [
            "All done!\n"
          ]
        }
      ]
    },
    {
      "cell_type": "code",
      "source": [
        "# \"shah abdul latif university, khairpur\" replaced by \"shah abdul latif university\"\n",
        "replace_matches_in_column(df=professors, column='University Currently Teaching', string_to_match=\"shah abdul latif university\",min_match = 95)"
      ],
      "metadata": {
        "colab": {
          "base_uri": "https://localhost:8080/"
        },
        "id": "rFGIHNO9kGSH",
        "outputId": "dedfef97-ea52-41f2-d242-61088e2a127f"
      },
      "execution_count": null,
      "outputs": [
        {
          "output_type": "stream",
          "name": "stdout",
          "text": [
            "All done!\n"
          ]
        }
      ]
    },
    {
      "cell_type": "code",
      "source": [
        "# \"ned,uet\" replaced by \"ned\"\n",
        "replace_matches_in_column(df=professors, column='University Currently Teaching', string_to_match=\"ned\",min_match = 90)"
      ],
      "metadata": {
        "colab": {
          "base_uri": "https://localhost:8080/"
        },
        "id": "NznvEn-GkTZx",
        "outputId": "8444f377-d95c-4fb0-f532-1ea7bf847c20"
      },
      "execution_count": null,
      "outputs": [
        {
          "output_type": "stream",
          "name": "stdout",
          "text": [
            "All done!\n"
          ]
        }
      ]
    },
    {
      "cell_type": "code",
      "source": [
        "# \"national textile university,faisalabad',\" replaced by \"national textile university\"\n",
        "replace_matches_in_column(df=professors, column='University Currently Teaching', string_to_match=\"national textile university\",min_match = 95)"
      ],
      "metadata": {
        "colab": {
          "base_uri": "https://localhost:8080/"
        },
        "id": "JtBNmEPjkvu5",
        "outputId": "980648fd-bd20-48bf-9fa9-a37fd46c8f41"
      },
      "execution_count": null,
      "outputs": [
        {
          "output_type": "stream",
          "name": "stdout",
          "text": [
            "All done!\n"
          ]
        }
      ]
    },
    {
      "cell_type": "code",
      "source": [
        "# \"international islamic university,islamabad\",\" replaced by \"international islamic university\"\n",
        "replace_matches_in_column(df=professors, column='University Currently Teaching', string_to_match=\"international islamic university\",min_match = 95)"
      ],
      "metadata": {
        "colab": {
          "base_uri": "https://localhost:8080/"
        },
        "id": "iRRMMGlqk8xL",
        "outputId": "23217654-328d-45bb-aabb-ec9bd42c32c8"
      },
      "execution_count": null,
      "outputs": [
        {
          "output_type": "stream",
          "name": "stdout",
          "text": [
            "All done!\n"
          ]
        }
      ]
    },
    {
      "cell_type": "markdown",
      "source": [
        "**Unique Case**\n",
        "\n",
        "\n",
        "Replace all rows which contain \"university of engineering and technology,peshawar\" and \"uet\" with \"university of engineering and technology\""
      ],
      "metadata": {
        "id": "fLZQjr7Oys1z"
      }
    },
    {
      "cell_type": "code",
      "source": [
        "\n",
        "professors['University Currently Teaching'] = professors['University Currently Teaching'].replace(\n",
        "    ['university of engineering and technology,peshawar', 'UET', 'uet'],\n",
        "    'university of engineering and technology',\n",
        "    regex=True  # Enable regex for case-insensitive replacement\n",
        ")\n"
      ],
      "metadata": {
        "id": "nDEpLbYTtVdu"
      },
      "execution_count": null,
      "outputs": []
    },
    {
      "cell_type": "code",
      "source": [
        "professors[\"University Currently Teaching\"].unique()"
      ],
      "metadata": {
        "colab": {
          "base_uri": "https://localhost:8080/"
        },
        "id": "4T27ShJEimTq",
        "outputId": "0f774f85-e679-4fe3-a206-4b651f91241b"
      },
      "execution_count": null,
      "outputs": [
        {
          "output_type": "execute_result",
          "data": {
            "text/plain": [
              "array(['university of balochistan',\n",
              "       \"sardar bahadur khan women's university\", 'university of turbat',\n",
              "       'comsats', 'national university of sciences and technology',\n",
              "       'riphah', 'fast', 'international islamic university',\n",
              "       'national university of modern languages', 'air university',\n",
              "       'bahria university',\n",
              "       'capital university of science and technology',\n",
              "       'pakistan institute of engineering and applied sciences',\n",
              "       'university of sargodha', 'naml', 'university of lahore',\n",
              "       'university of sahiwal',\n",
              "       'barani institute of information and technology',\n",
              "       'fatima jinnah women university', 'university of central punjab',\n",
              "       'lahore garrison university', 'punjab university',\n",
              "       'information technology university',\n",
              "       'lahore university of management sciences', 'virtual university',\n",
              "       'university of management and technology',\n",
              "       'minhaj university lahore', 'beaconhouse national university',\n",
              "       'shaheed zulfikar ali bhutto institute of science and technology',\n",
              "       'quaid-e-awam university of engineering, science & technology',\n",
              "       'shah abdul latif university',\n",
              "       'shaheed benazir bhutto university,shaheed benazirabad\\n',\n",
              "       'university of sindh', 'university of karachi', 'ned',\n",
              "       'institute of business administration', 'isra university',\n",
              "       'sir syed university of engineering and technology',\n",
              "       'jinnah university for women', 'dha suffa university',\n",
              "       'paf-karachi institute of economics and technology',\n",
              "       'mohammad ali jinnah university', 'habib university',\n",
              "       'islamia university bhawalpur', 'university of chakwal',\n",
              "       'government college university faisalabad',\n",
              "       'national textile university',\n",
              "       'nfc institute of engineering and fertilizer research',\n",
              "       'gift university', 'university of gujrat',\n",
              "       'university of peshawar',\n",
              "       'university of engineering and technology',\n",
              "       'university of agriculture', 'city university',\n",
              "       'abasyn university', 'ghulam ishaq khan institute'], dtype=object)"
            ]
          },
          "metadata": {},
          "execution_count": 31
        }
      ]
    },
    {
      "cell_type": "code",
      "source": [
        "# After replacing unique values\n",
        "professors[\"University Currently Teaching\"].nunique()"
      ],
      "metadata": {
        "colab": {
          "base_uri": "https://localhost:8080/"
        },
        "id": "vZ92SCzxyX2z",
        "outputId": "626253c9-a16a-4c48-9fd0-c248c49d0192"
      },
      "execution_count": null,
      "outputs": [
        {
          "output_type": "execute_result",
          "data": {
            "text/plain": [
              "56"
            ]
          },
          "metadata": {},
          "execution_count": 32
        }
      ]
    }
  ]
}